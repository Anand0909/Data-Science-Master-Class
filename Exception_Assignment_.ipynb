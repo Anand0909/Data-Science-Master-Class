{
  "nbformat": 4,
  "nbformat_minor": 0,
  "metadata": {
    "colab": {
      "provenance": [],
      "authorship_tag": "ABX9TyPRiEsNh8fbmtpAoT7pjM/v",
      "include_colab_link": true
    },
    "kernelspec": {
      "name": "python3",
      "display_name": "Python 3"
    },
    "language_info": {
      "name": "python"
    }
  },
  "cells": [
    {
      "cell_type": "markdown",
      "metadata": {
        "id": "view-in-github",
        "colab_type": "text"
      },
      "source": [
        "<a href=\"https://colab.research.google.com/github/Anand0909/Data-Science-Master-Class/blob/main/Exception_Assignment_.ipynb\" target=\"_parent\"><img src=\"https://colab.research.google.com/assets/colab-badge.svg\" alt=\"Open In Colab\"/></a>"
      ]
    },
    {
      "cell_type": "markdown",
      "source": [
        "Q1. What is the exception in python? write a difference between Exception and Syntex error"
      ],
      "metadata": {
        "id": "0oyE_xZd7B_O"
      }
    },
    {
      "cell_type": "code",
      "source": [
        "# Sloution1>\n",
        "\n",
        "# **Exception**:\n",
        "# - Occurs during program execution.\n",
        "# - Raised when an unexpected situation occurs (like division by zero, file not found).\n",
        "# - Can be caught and handled using try-except blocks.\n",
        "\n",
        "# **Syntax Error**:\n",
        "# - Occurs during parsing, before execution.\n",
        "# - Raised when the code violates Python's syntax rules (like missing colons, unmatched parentheses).\n",
        "# - Must be fixed before running the code."
      ],
      "metadata": {
        "id": "j0kzW8Q17TBV"
      },
      "execution_count": null,
      "outputs": []
    },
    {
      "cell_type": "markdown",
      "source": [
        "Q2. What happens when an exception is not handled ? Explain with example"
      ],
      "metadata": {
        "id": "chMdvdcW95-x"
      }
    },
    {
      "cell_type": "code",
      "source": [
        "# Solution2>\n",
        "\n",
        "# In Python, when an exception occurs but isn't caught within a try-except block, the program crashes.\n",
        "# This happens because unhandled exceptions are considered fatal errors.\n",
        "#Example =>\n",
        "a = 0\n",
        "10/0\n",
        "Print(\"This will execute only if error is handeled by Try , Exception block\")"
      ],
      "metadata": {
        "colab": {
          "base_uri": "https://localhost:8080/",
          "height": 193
        },
        "id": "Pp62bp2e-EnU",
        "outputId": "980bcded-7425-4e85-9fa7-7e5cbbb481bc"
      },
      "execution_count": null,
      "outputs": [
        {
          "output_type": "error",
          "ename": "ZeroDivisionError",
          "evalue": "division by zero",
          "traceback": [
            "\u001b[0;31m---------------------------------------------------------------------------\u001b[0m",
            "\u001b[0;31mZeroDivisionError\u001b[0m                         Traceback (most recent call last)",
            "\u001b[0;32m<ipython-input-3-63315c983a3e>\u001b[0m in \u001b[0;36m<cell line: 7>\u001b[0;34m()\u001b[0m\n\u001b[1;32m      5\u001b[0m \u001b[0;31m#Example =>\u001b[0m\u001b[0;34m\u001b[0m\u001b[0;34m\u001b[0m\u001b[0m\n\u001b[1;32m      6\u001b[0m \u001b[0ma\u001b[0m \u001b[0;34m=\u001b[0m \u001b[0;36m0\u001b[0m\u001b[0;34m\u001b[0m\u001b[0;34m\u001b[0m\u001b[0m\n\u001b[0;32m----> 7\u001b[0;31m \u001b[0;36m10\u001b[0m\u001b[0;34m/\u001b[0m\u001b[0;36m0\u001b[0m\u001b[0;34m\u001b[0m\u001b[0;34m\u001b[0m\u001b[0m\n\u001b[0m\u001b[1;32m      8\u001b[0m \u001b[0mPrint\u001b[0m\u001b[0;34m(\u001b[0m\u001b[0;34m\"This will execute only if error is handeled by Try , Exception block\"\u001b[0m\u001b[0;34m)\u001b[0m\u001b[0;34m\u001b[0m\u001b[0;34m\u001b[0m\u001b[0m\n",
            "\u001b[0;31mZeroDivisionError\u001b[0m: division by zero"
          ]
        }
      ]
    },
    {
      "cell_type": "code",
      "source": [
        "# Now i will use try exception block to handel this error :\n",
        "try:\n",
        "  a = 0\n",
        "  10/a\n",
        "except Exception as e:\n",
        "  print(\"This will execute only if error is handeled by Try Exception block\", e)"
      ],
      "metadata": {
        "colab": {
          "base_uri": "https://localhost:8080/"
        },
        "id": "2GdTPPXm_hoB",
        "outputId": "47496cb0-0b73-455c-9c6b-0f44a1a1dfe8"
      },
      "execution_count": null,
      "outputs": [
        {
          "output_type": "stream",
          "name": "stdout",
          "text": [
            "This will execute only if error is handeled by Try Exception block division by zero\n"
          ]
        }
      ]
    },
    {
      "cell_type": "markdown",
      "source": [
        "Q3. Which python statements are used to catch and handle exceptions? Explain\n",
        "with an example"
      ],
      "metadata": {
        "id": "DXnPyc0EAzrh"
      }
    },
    {
      "cell_type": "code",
      "source": [
        "# Solution3>\n",
        "\n",
        "# In Python, the try...except statements are used to catch and handle exceptions:\n",
        "\n",
        "# try: This block contains the code that might potentially raise exceptions.\n",
        "# except: This block follows the try block and specifies the types of exceptions to catch. It can have multiple except clauses, each handling a specific exception type.\n",
        "# else: This block (optional) executes only if no exceptions occur within the try block.\n",
        "\n",
        "#Example >\n",
        "\n",
        "try:\n",
        "  f = open(\"test1.txt\",\"r\")\n",
        "  f.write(\"write into my file\")\n",
        "except Exception as e:\n",
        "  print(\"This will execute under exception\", e)\n",
        "else:\n",
        "  f.close()\n",
        "  print(\"This will execute once your try block executed without any error\")\n",
        "\n",
        "\n",
        "# Note else block will only execute when try block is executed and code surpass except block without error"
      ],
      "metadata": {
        "colab": {
          "base_uri": "https://localhost:8080/"
        },
        "id": "2ZorNVmYBEYi",
        "outputId": "53ff3f47-e3ed-4444-f65a-c339dc45fbda"
      },
      "execution_count": null,
      "outputs": [
        {
          "output_type": "stream",
          "name": "stdout",
          "text": [
            "This will execute under exception [Errno 2] No such file or directory: 'test1.txt'\n"
          ]
        }
      ]
    },
    {
      "cell_type": "markdown",
      "source": [
        "Q4. Explain with an example :\n",
        "1. Try & Else\n",
        "2. finally\n",
        "3. raise"
      ],
      "metadata": {
        "id": "59vTZzdMB941"
      }
    },
    {
      "cell_type": "code",
      "source": [
        "# Solution 1>\n",
        "# 1. Try & else\n",
        "try:\n",
        "  f = open(\"test.txt\",'w')\n",
        "  f.write(\"Here i am trying to test Try & else functionality\")\n",
        "except Exception as e:\n",
        "  print(\"this will execute if try block does not execute\" , e)\n",
        "else:\n",
        "  f.close()\n",
        "  print(\"else block will execute only if try block executed successfully without any error\")\n",
        "\n"
      ],
      "metadata": {
        "id": "4L_nKOzMCGQ_",
        "colab": {
          "base_uri": "https://localhost:8080/"
        },
        "outputId": "62ef4e1b-b621-4416-aea4-7b913f697ef0"
      },
      "execution_count": null,
      "outputs": [
        {
          "output_type": "stream",
          "name": "stdout",
          "text": [
            "else block will execute only if try block executed successfully without any error\n"
          ]
        }
      ]
    },
    {
      "cell_type": "code",
      "source": [
        "# finally\n",
        "try:\n",
        "  a = 0\n",
        "  10/a\n",
        "except Exception as e:\n",
        "  print(\"This will execute if try block is not executed properly\" , e)\n",
        "finally:\n",
        "  print(\"Finally will execute in any case, either Try block execute or not execute properly\")"
      ],
      "metadata": {
        "colab": {
          "base_uri": "https://localhost:8080/"
        },
        "id": "HvcLbu_ErGUj",
        "outputId": "31b11d21-8beb-4f38-8c70-94e5aef9af11"
      },
      "execution_count": null,
      "outputs": [
        {
          "output_type": "stream",
          "name": "stdout",
          "text": [
            "This will execute if try block is not executed properly division by zero\n",
            "Finally will execute in any case, either Try block execute or not execute properly\n"
          ]
        }
      ]
    },
    {
      "cell_type": "code",
      "source": [
        "from os import MFD_ALLOW_SEALING\n",
        "# raise- This will be required once and when custome exception needs to be raised\n",
        "# Example - We need to take input of age with provided disclaimer and exception\n",
        "\n",
        "class validate_age_exception(Exception):\n",
        "\n",
        "  def __init__(self, msg):\n",
        "    self.msg = msg\n",
        "\n",
        "def validate_age(age):\n",
        "  if age < 0:\n",
        "    raise validate_age_exception(\"Entered age is negative, please enter correct age\")\n",
        "  elif age > 200:\n",
        "    raise validate_age_exception(\"Entered age is very high, please revalidate the age\")\n",
        "  else:\n",
        "    print(\"Thank you for response, age is valid\")\n",
        "\n",
        "\n",
        "try:\n",
        "  age = int(input(\"enter your age \"))\n",
        "  validate_age(age)\n",
        "except validate_age_exception as e:\n",
        "  print(e)"
      ],
      "metadata": {
        "id": "sb0c4wqTr2Dm",
        "colab": {
          "base_uri": "https://localhost:8080/"
        },
        "outputId": "52967786-b251-42e6-f24e-8779951cd215"
      },
      "execution_count": null,
      "outputs": [
        {
          "output_type": "stream",
          "name": "stdout",
          "text": [
            "enter your age 24\n",
            "Thank you for response, age is valid\n"
          ]
        }
      ]
    },
    {
      "cell_type": "markdown",
      "source": [
        "Q5. What are custom exceptions in Python? why do we need Custome Exceptions? Explain with an example"
      ],
      "metadata": {
        "id": "ylTrUVO3wdWw"
      }
    },
    {
      "cell_type": "code",
      "source": [
        "#Solution 5>\n",
        "# Custom exceptions are specialized error types that we create for specific program's needs. They inherit from the built-in Exception class.\n",
        "# Why we need Custom Exception :\n",
        "# 1. More precise error handling: Built-in exceptions might be too broad. Custom exceptions let you signal specific errors within your program, making it easier to handle them appropriately.\n",
        "# 2. Improved code readability: Clearer error messages enhance code understanding and maintainability.\n",
        "\n",
        "# Example : Imagine to have a function that calculates the area of a rectangle.\n",
        "#           we want to raise an error if someone tries to provide negative values for width or height."
      ],
      "metadata": {
        "id": "EfrG_T3FwtQ9"
      },
      "execution_count": null,
      "outputs": []
    },
    {
      "cell_type": "code",
      "source": [
        "# Example Code :\n",
        "class InvalidRectangleDimension(Exception):\n",
        "  pass\n",
        "\n",
        "def calculate_area(width, hight):\n",
        "  if width < 0 or hight < 0 :\n",
        "    raise InvalidRectangleDimension(\"Rectangle dimension can't be negative\")\n",
        "  else:\n",
        "    return width*hight\n",
        "try:\n",
        "  area = calculate_area(4,-3)\n",
        "except InvalidRectangleDimension as e:\n",
        "  print(e)\n",
        "else:\n",
        "  print(f\"area : {area}\")\n"
      ],
      "metadata": {
        "colab": {
          "base_uri": "https://localhost:8080/"
        },
        "id": "1PhyuV5ZzR42",
        "outputId": "349439fe-d61d-41e2-8625-3b325d9b2a90"
      },
      "execution_count": null,
      "outputs": [
        {
          "output_type": "stream",
          "name": "stdout",
          "text": [
            "Rectangle dimension can't be negative\n"
          ]
        }
      ]
    },
    {
      "cell_type": "markdown",
      "source": [
        "Q6. Create a custome exception class and use this class to handle exception"
      ],
      "metadata": {
        "id": "_xViTnlo57fd"
      }
    },
    {
      "cell_type": "code",
      "source": [
        "# Solution 6>\n",
        "class ValidLotteryNumber(Exception):\n",
        "  pass\n",
        "\n",
        "def Lottery_number(number):\n",
        "  if number == 1993:\n",
        "    print(\"Congratulation you win the lottery\")\n",
        "  else:\n",
        "    raise ValidLotteryNumber(\"Hmm this is not the number of your luck, please try once more\")\n",
        "\n",
        "try:\n",
        "  number = int(input(\"Please enter four digit number of your luck : \"))\n",
        "  Lottery_number(number)\n",
        "except ValidLotteryNumber as e:\n",
        "  print(e)"
      ],
      "metadata": {
        "colab": {
          "base_uri": "https://localhost:8080/"
        },
        "id": "xyU_Dj3D5uJE",
        "outputId": "3e2abb0c-d05d-451a-d43b-7eb41b6201d8"
      },
      "execution_count": null,
      "outputs": [
        {
          "output_type": "stream",
          "name": "stdout",
          "text": [
            "Please enter four digit number of your luck : 9872\n",
            "Hmm this is not the number of your luck, please try once more\n"
          ]
        }
      ]
    },
    {
      "cell_type": "code",
      "source": [],
      "metadata": {
        "id": "QVY77Qhg97rk"
      },
      "execution_count": null,
      "outputs": []
    }
  ]
}