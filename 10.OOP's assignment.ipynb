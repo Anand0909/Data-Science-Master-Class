{
 "cells": [
  {
   "cell_type": "code",
   "execution_count": 1,
   "id": "9d59ad71-f146-48e3-badc-7c5464095c4d",
   "metadata": {},
   "outputs": [],
   "source": [
    "# Q1. Which function is used to open a file? What are the different modes of opening a file? Explain each mode of file opening."
   ]
  },
  {
   "cell_type": "code",
   "execution_count": 5,
   "id": "3bdbd257-c567-4fd8-b9e4-ad74ff610204",
   "metadata": {},
   "outputs": [],
   "source": [
    "# Solution 1> \n",
    "\n",
    "# To open any file use the below function \n",
    "\n",
    "# open(filename, mode) opens a file.\n",
    "\n",
    "# Modes are : \n",
    "# Read: 'r' (default) - existing file only.\n",
    "# Write: 'w' (overwrite), 'x' (create new only).\n",
    "# Append: 'a' (add to end).\n",
    "# Read & Write: 'r+' (existing), 'w+' (overwrite/create), 'a+' (append/create).\n",
    "# Binary: Add 'b' to any mode for non-text files.\n",
    "\n",
    "# Always close() the file after use."
   ]
  },
  {
   "cell_type": "code",
   "execution_count": 6,
   "id": "34d07292-bbff-4e23-8075-984420837512",
   "metadata": {},
   "outputs": [],
   "source": [
    "# Q2. Why close() function is used? Why is it important to close a file?"
   ]
  },
  {
   "cell_type": "code",
   "execution_count": 8,
   "id": "4463eeba-ef8b-4b43-833e-277370798d67",
   "metadata": {},
   "outputs": [],
   "source": [
    "# Solution 2> \n",
    "\n",
    "\n",
    "# Closing files (.close()) is like cleaning up after yourself when you're done using something. Here's why it's important:\n",
    "\n",
    "# Give things back: Opening a file uses computer resources. Closing it frees them up for other uses.\n",
    "# Save your work: Changes you make to a file might not be saved right away. Closing it ensures everything is written down properly.\n",
    "# Avoid mistakes: If your program crashes with an open file, things might get messed up. Closing it reduces that risk.\n",
    "# Be a good coder: Closing files is like putting your toys away. It shows you care about keeping things tidy and organized."
   ]
  },
  {
   "cell_type": "code",
   "execution_count": null,
   "id": "8d7e0556-ad7d-4152-b492-d1b9806872a8",
   "metadata": {},
   "outputs": [],
   "source": [
    "# Q3. Write a python program to create a text file. Write ‘I want to become a Data Scientist’ in that file. Then close the file. Open this file and read the content of the file."
   ]
  },
  {
   "cell_type": "code",
   "execution_count": 9,
   "id": "9a99d421-ec3e-480b-894a-dc1eabb8d15a",
   "metadata": {},
   "outputs": [
    {
     "name": "stdout",
     "output_type": "stream",
     "text": [
      "Data written to file!\n",
      "Content of the file:\n",
      "I want to become a Data Scientist\n",
      "\n"
     ]
    }
   ],
   "source": [
    "# Solution 3>\n",
    "\n",
    "# create the file and write data\n",
    "\n",
    "with open(\"data_scientist_goal.txt\",\"w\") as my_file:\n",
    "    my_file.write(\"I want to become a Data Scientist\\n\")\n",
    "    print(\"Data written to file!\")\n",
    "\n",
    "# Open the file for reading\n",
    "\n",
    "with open(\"data_scientist_goal.txt\",\"r\") as my_file:\n",
    "    content = my_file.read()\n",
    "    print(\"Content of the file:\")\n",
    "    print(content)"
   ]
  },
  {
   "cell_type": "code",
   "execution_count": 10,
   "id": "b7bee858-6f5a-421c-9aca-1dd25365ba18",
   "metadata": {},
   "outputs": [],
   "source": [
    "# Q4. Explain the following with python code: read(), readline() and readlines()."
   ]
  },
  {
   "cell_type": "code",
   "execution_count": 15,
   "id": "cb0bd6c6-78c3-45e4-a82e-586849dbae85",
   "metadata": {},
   "outputs": [
    {
     "name": "stdout",
     "output_type": "stream",
     "text": [
      "Using read():\n",
      "Line 1\n",
      "Line 2\n",
      "Line 3\n",
      "\n",
      "using readline():\n",
      "Line 1\n",
      "\n",
      "Line 2\n",
      "\n",
      "Using readlines():\n",
      "['Line 1\\n', 'Line 2\\n', 'Line 3\\n']\n"
     ]
    }
   ],
   "source": [
    "# Solution 4>\n",
    "\n",
    "# Crete a sample text file \n",
    "\n",
    "with open(\"sample.txt\",\"w\") as my_file:\n",
    "    my_file.write(\"Line 1\\nLine 2\\nLine 3\\n\")\n",
    "\n",
    "# Read the entire file at once \n",
    "\n",
    "with open(\"sample.txt\",\"r\") as my_file:\n",
    "    all_content = my_file.read()\n",
    "    print(\"Using read():\")\n",
    "    print(all_content)\n",
    "\n",
    "# Read one line at a time \n",
    "\n",
    "with open(\"sample.txt\", \"r\") as my_file:\n",
    "    print(\"using readline():\")\n",
    "    line1 = my_file.readline()\n",
    "    print(line1)\n",
    "    line2 = my_file.readline()\n",
    "    print(line2)\n",
    "    \n",
    "# Read all lines into a list\n",
    "\n",
    "with open(\"sample.txt\",\"r\") as my_file:\n",
    "    all_lines = my_file.readlines()\n",
    "    print(\"Using readlines():\")\n",
    "    print(all_lines) # This will print a list of strings"
   ]
  },
  {
   "cell_type": "code",
   "execution_count": 16,
   "id": "76c6b578-5f79-4c1c-9743-68faea833fcb",
   "metadata": {},
   "outputs": [],
   "source": [
    "# Q5. Explain why with statement is used with open(). What is the advantage of using with statement and open() together?"
   ]
  },
  {
   "cell_type": "code",
   "execution_count": 18,
   "id": "be0e33cd-81a8-40f0-bde9-5e0af3981194",
   "metadata": {},
   "outputs": [],
   "source": [
    "# Solution 5>\n",
    "\n",
    "# Automatic closing: The file is closed even if an exception occurs within the with block.\n",
    "# Conciseness: No need for explicit close() statements.\n",
    "# Clarity: The code block explicitly defines file operations.\n",
    "\n",
    "# Efficient resource management\n",
    "# Readable and maintainable code\n",
    "# Streamlined exception handling during file I/O"
   ]
  },
  {
   "cell_type": "code",
   "execution_count": 19,
   "id": "c28180d5-2367-4fc3-b92f-ef23e59dc03d",
   "metadata": {},
   "outputs": [],
   "source": [
    "# Q6. Explain the write() and writelines() functions. Give a suitable example."
   ]
  },
  {
   "cell_type": "code",
   "execution_count": 28,
   "id": "bf28aee3-05fc-408e-89d2-82dce046076d",
   "metadata": {},
   "outputs": [
    {
     "name": "stdout",
     "output_type": "stream",
     "text": [
      "Data written to output.txt!\n",
      "Data written to output.txt!\n",
      "line 1\n",
      "line 2\n",
      "line 3\n",
      "\n"
     ]
    }
   ],
   "source": [
    "# Solution 6>\n",
    "\n",
    "# Both write() and writelines() are used for writing data to files in Python, but they differ in how they handle the data and newline characters:\n",
    "\n",
    "# write()\n",
    "\n",
    "# Purpose: Writes a single string to a file.\n",
    "# Arguments: Takes one argument, which is the string you want to write to the file.\n",
    "# Newline Character: Does not add a newline character (\\n) to the end of the string by default. If you want a newline, you need to include it explicitly in the string you pass to write().\n",
    "# Example:\n",
    "\n",
    "\n",
    "data_to_write = \"This is some data written with write()\\n\" # Include new line at the end\n",
    "\n",
    "with open(\"outut.txt\",\"a\") as my_file:\n",
    "    my_file.write(data_to_write)\n",
    "    \n",
    "print(\"Data written to output.txt!\")\n",
    "\n",
    "\n",
    "# writelines()\n",
    "\n",
    "# Purpose: Writes an iterable of strings (like a list of strings) to a file.\n",
    "# Arguments: Takes one argument, which is an iterable object containing the strings you want to write.\n",
    "# Newline Character: Preserves the newline characters (\\n) present within the strings in the iterable. It does not add any additional newlines on its own.\n",
    "# Example:\n",
    "\n",
    "\n",
    "lines_to_write = [\"line 1\\n\", \"line 2\\n\", \"line 3\\n\"] # each line has its own newline \n",
    "\n",
    "# if we don't want to override the written content then we need to open file in append mode \n",
    "with open(\"output.txt\",\"w\") as my_file:\n",
    "     my_file.writelines(lines_to_write)\n",
    "    \n",
    "print(\"Data written to output.txt!\")\n",
    "\n",
    "\n",
    "# to read this file \n",
    "\n",
    "with open(\"output.txt\",\"r\") as my_file:\n",
    "    content = my_file.read() # read file content\n",
    "    print(content) # do something with content\n"
   ]
  },
  {
   "cell_type": "code",
   "execution_count": null,
   "id": "0309929c-bcdb-4e0d-abc9-654c79ccebf9",
   "metadata": {},
   "outputs": [],
   "source": []
  },
  {
   "cell_type": "code",
   "execution_count": null,
   "id": "f4d60c08-0ae4-40a4-bc51-df63a71712b5",
   "metadata": {},
   "outputs": [],
   "source": []
  }
 ],
 "metadata": {
  "kernelspec": {
   "display_name": "Python 3 (ipykernel)",
   "language": "python",
   "name": "python3"
  },
  "language_info": {
   "codemirror_mode": {
    "name": "ipython",
    "version": 3
   },
   "file_extension": ".py",
   "mimetype": "text/x-python",
   "name": "python",
   "nbconvert_exporter": "python",
   "pygments_lexer": "ipython3",
   "version": "3.10.8"
  }
 },
 "nbformat": 4,
 "nbformat_minor": 5
}
