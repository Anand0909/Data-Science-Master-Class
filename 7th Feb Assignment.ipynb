{
 "cells": [
  {
   "cell_type": "markdown",
   "id": "7fc956e4-d283-46ba-a882-f27d377074a0",
   "metadata": {},
   "source": [
    "# Q1. You are writing code for a company. The requirement of the company is that you create a pythonfunction that will check whether the password entered by the user is correct or not.\n",
    "# The function should take the password as input and return the string “Valid Password” if the entered password follows thebelow-given password guidelines.\n",
    "# else it should return “Invalid Password”.\n",
    "## Note: 1. The Password should contain at least two uppercase letters and at least two lowercase letters.\n",
    "## 2. The Password should contain at least a number and three special characters.\n",
    "## 3. The length of the password should be 10 characters long."
   ]
  },
  {
   "cell_type": "code",
   "execution_count": 3,
   "id": "87b07ba8-f4ec-4c7d-bd4a-43867fbe341e",
   "metadata": {},
   "outputs": [
    {
     "name": "stdin",
     "output_type": "stream",
     "text": [
      "Enter the password:  Iamanand@123\n"
     ]
    },
    {
     "name": "stdout",
     "output_type": "stream",
     "text": [
      "Valid Password\n"
     ]
    }
   ],
   "source": [
    "# Ans1. \n",
    "\n",
    "def check_password():\n",
    "    password = input(\"Enter the password: \")\n",
    "\n",
    "    # Check the length of the password\n",
    "    if len(password) < 8:\n",
    "        return \"Invalid Password: Password should be at least 8 characters long.\"\n",
    "\n",
    "    # Check if the password contains both uppercase and lowercase letters\n",
    "    if not any(c.isupper() for c in password) or not any(c.islower() for c in password):\n",
    "        return \"Invalid Password: Password should contain both uppercase and lowercase letters.\"\n",
    "\n",
    "    # Check if the password contains at least one digit\n",
    "    if not any(c.isdigit() for c in password):\n",
    "        return \"Invalid Password: Password should contain at least one digit.\"\n",
    "\n",
    "    # Check if the password contains at least one special character\n",
    "    special_characters = \"!@#$%^&*()-_=+[{]}\\|;:'\\\",<.>/?\"\n",
    "    if not any(c in special_characters for c in password):\n",
    "        return \"Invalid Password: Password should contain at least one special character.\"\n",
    "\n",
    "    # If all conditions are met, return \"Valid Password\"\n",
    "    return \"Valid Password\"\n",
    "\n",
    "# Call the function to check the password\n",
    "result = check_password()\n",
    "print(result)\n"
   ]
  },
  {
   "cell_type": "code",
   "execution_count": 4,
   "id": "1059b553-1e21-4482-a5e4-34c036c3021b",
   "metadata": {},
   "outputs": [],
   "source": [
    "# Noe to apply given conditions "
   ]
  },
  {
   "cell_type": "code",
   "execution_count": 9,
   "id": "b54c7334-a954-42ab-a7ce-f70190e89620",
   "metadata": {},
   "outputs": [
    {
     "name": "stdin",
     "output_type": "stream",
     "text": [
      "Enter the password:  ANand@#$12\n"
     ]
    },
    {
     "name": "stdout",
     "output_type": "stream",
     "text": [
      "Valid Password\n"
     ]
    }
   ],
   "source": [
    "def check_password():\n",
    "    password = input(\"Enter the password: \")\n",
    "\n",
    "    # Check the length of the password\n",
    "    if len(password) != 10:\n",
    "        return \"Invalid Password: Password should be exactly 10 characters long.\"\n",
    "\n",
    "    # Check if the password contains at least two uppercase and two lowercase letters\n",
    "    uppercase_count = 0\n",
    "    lowercase_count = 0\n",
    "    for c in password:\n",
    "        if c.isupper():\n",
    "            uppercase_count += 1\n",
    "        elif c.islower():\n",
    "            lowercase_count += 1\n",
    "    \n",
    "    if uppercase_count < 2 or lowercase_count < 2:\n",
    "        return \"Invalid Password: Password should contain at least two uppercase and two lowercase letters.\"\n",
    "\n",
    "    # Check if the password contains at least one digit and three special characters\n",
    "    digit_count = 0\n",
    "    special_character_count = 0\n",
    "    special_characters = \"!@#$%^&*()-_=+[{]}\\|;:'\\\",<.>/?\"\n",
    "    for c in password:\n",
    "        if c.isdigit():\n",
    "            digit_count += 1\n",
    "        elif c in special_characters:\n",
    "            special_character_count += 1\n",
    "    \n",
    "    if digit_count == 0 or special_character_count < 3:\n",
    "        return \"Invalid Password: Password should contain at least one digit and three special characters.\"\n",
    "\n",
    "    # If all conditions are met, return \"Valid Password\"\n",
    "    return \"Valid Password\"\n",
    "\n",
    "# Call the function to check the password\n",
    "result = check_password()\n",
    "print(result)\n"
   ]
  },
  {
   "cell_type": "markdown",
   "id": "6f10a43f-1be8-4bbf-a347-0e91718a09a6",
   "metadata": {},
   "source": [
    "# Q2. Solve the below-given questions using at least one of the following:\n",
    "1. Lambda function\n",
    "2. Filter function\n",
    "3. Zap function\n",
    "4. List Comprehension\n",
    "\n",
    "## 1.Check if the string starts with a particular letter\n",
    "## 2.Check if the string is numeric\n",
    "## 3.Sort a list of tuples having fruit names and their quantity. [(\"mango\",99),(\"orange\",80), (\"grapes\", 1000)]\n",
    "## Find the squares of numbers from 1 to 10\n",
    "## Find the cube root of numbers from 1 to 10\n",
    "## Check if a given number is even\n",
    "## Filter odd numbers from the given list. [1,2,3,4,5,6,7,8,9,10]\n",
    "## Sort a list of integers into positive and negative integers lists. [1,2,3,4,5,6,-1,-2,-3,-4,-5,0]"
   ]
  },
  {
   "cell_type": "code",
   "execution_count": 13,
   "id": "e3ffa38c-50b9-43a8-9bcb-6fc260cf09d5",
   "metadata": {},
   "outputs": [],
   "source": [
    "# Ans2."
   ]
  },
  {
   "cell_type": "code",
   "execution_count": 14,
   "id": "0c28b8da-8b2f-4eaa-92ba-5bc536fd59ac",
   "metadata": {},
   "outputs": [
    {
     "name": "stdout",
     "output_type": "stream",
     "text": [
      "True\n"
     ]
    }
   ],
   "source": [
    "# Check if the string starts with a particular letter:\n",
    "\n",
    "# Lambda function and string.startswith()\n",
    "starts_with_letter = lambda string, letter: string.startswith(letter)\n",
    "result = starts_with_letter(\"Hello\", \"H\")\n",
    "print(result)  # True\n"
   ]
  },
  {
   "cell_type": "code",
   "execution_count": 16,
   "id": "19986c18-bb15-43ad-8655-9c37865b8997",
   "metadata": {},
   "outputs": [
    {
     "name": "stdout",
     "output_type": "stream",
     "text": [
      "True\n"
     ]
    }
   ],
   "source": [
    "# Check if the string is numeric:\n",
    "\n",
    "\n",
    "# Lambda function and str.isdigit()\n",
    "is_numeric = lambda string: string.isdigit()\n",
    "result = is_numeric(\"12345\")\n",
    "print(result)  # True\n"
   ]
  },
  {
   "cell_type": "code",
   "execution_count": 17,
   "id": "a0b06dad-c258-4c1e-a6f3-158e6bc17651",
   "metadata": {},
   "outputs": [
    {
     "name": "stdout",
     "output_type": "stream",
     "text": [
      "[('orange', 80), ('mango', 99), ('grapes', 1000)]\n"
     ]
    }
   ],
   "source": [
    "# Sort a list of tuples having fruit names and their quantity:\n",
    "\n",
    "# Lambda function and sorted()\n",
    "fruits = [(\"mango\", 99), (\"orange\", 80), (\"grapes\", 1000)]\n",
    "sorted_fruits = sorted(fruits, key=lambda x: x[1])\n",
    "print(sorted_fruits)  # [('orange', 80), ('mango', 99), ('grapes', 1000)]\n"
   ]
  },
  {
   "cell_type": "code",
   "execution_count": 18,
   "id": "2b97c411-c5de-4213-86bc-8263c93feb27",
   "metadata": {},
   "outputs": [
    {
     "name": "stdout",
     "output_type": "stream",
     "text": [
      "[1, 4, 9, 16, 25, 36, 49, 64, 81, 100]\n"
     ]
    }
   ],
   "source": [
    "# Find the squares of numbers from 1 to 10:\n",
    "\n",
    "\n",
    "# List comprehension\n",
    "squares = [num**2 for num in range(1, 11)]\n",
    "print(squares)  # [1, 4, 9, 16, 25, 36, 49, 64, 81, 100]\n"
   ]
  },
  {
   "cell_type": "code",
   "execution_count": 19,
   "id": "4893d9e6-72a9-4bf4-ab2a-d5880a85afa6",
   "metadata": {},
   "outputs": [
    {
     "name": "stdout",
     "output_type": "stream",
     "text": [
      "[1.0, 1.2599210498948732, 1.4422495703074083, 1.5874010519681994, 1.7099759466766968, 1.8171205928321397, 1.912931182772389, 2.0, 2.080083823051904, 2.154434690031884]\n"
     ]
    }
   ],
   "source": [
    "# Find the cube root of numbers from 1 to 10:\n",
    "\n",
    "# List comprehension and math module\n",
    "import math\n",
    "cube_roots = [math.pow(num, 1/3) for num in range(1, 11)]\n",
    "print(cube_roots)  \n",
    "# [1.0, 1.2599210498948732, 1.4422495703074083, 1.5874010519681994, 1.7099759466766968, 1.8171205928321397,\n",
    "# 1.912931182772389, 2.0, 2.0800841449655845, 2.154434690031884]\n"
   ]
  },
  {
   "cell_type": "code",
   "execution_count": 20,
   "id": "00f1eb78-a848-452a-a477-770ed5f40a93",
   "metadata": {},
   "outputs": [
    {
     "name": "stdout",
     "output_type": "stream",
     "text": [
      "True\n"
     ]
    }
   ],
   "source": [
    "# Check if a given number is even:\n",
    "\n",
    "# Lambda function and modulo operator\n",
    "is_even = lambda num: num % 2 == 0\n",
    "result = is_even(6)\n",
    "print(result)  # True\n"
   ]
  },
  {
   "cell_type": "code",
   "execution_count": 21,
   "id": "70066037-71ff-407f-aa9b-499ce9778b9b",
   "metadata": {},
   "outputs": [
    {
     "name": "stdout",
     "output_type": "stream",
     "text": [
      "[1, 3, 5, 7, 9]\n"
     ]
    }
   ],
   "source": [
    "# Filter odd numbers from the given list:\n",
    "\n",
    "# Filter function and lambda function\n",
    "numbers = [1, 2, 3, 4, 5, 6, 7, 8, 9, 10]\n",
    "odd_numbers = list(filter(lambda num: num % 2 != 0, numbers))\n",
    "print(odd_numbers)  # [1, 3, 5, 7, 9]\n"
   ]
  },
  {
   "cell_type": "code",
   "execution_count": 23,
   "id": "ed7a91d8-3e1f-4ddc-ad24-9113fbbd84cd",
   "metadata": {},
   "outputs": [
    {
     "name": "stdout",
     "output_type": "stream",
     "text": [
      "[1, 2, 3, 4, 5, 6]\n",
      "[-1, -2, -3, -4, -5]\n"
     ]
    }
   ],
   "source": [
    "# Sort a list of integers into positive and negative integers lists:\n",
    "\n",
    "# Lambda function and list comprehension\n",
    "numbers = [1, 2, 3, 4, 5, 6, -1, -2, -3, -4, -5, 0]\n",
    "positive_integers = [num for num in numbers if num > 0]\n",
    "negative_integers = [num for num in numbers if num < 0]\n",
    "print(positive_integers)  # [1, 2, 3, 4, 5, 6]\n",
    "print(negative_integers)  # [-1, -2, -3, -4, -5]\n"
   ]
  },
  {
   "cell_type": "code",
   "execution_count": null,
   "id": "14583c60-fcd1-461a-bb81-6ca51e0d76c0",
   "metadata": {},
   "outputs": [],
   "source": []
  }
 ],
 "metadata": {
  "kernelspec": {
   "display_name": "Python 3 (ipykernel)",
   "language": "python",
   "name": "python3"
  },
  "language_info": {
   "codemirror_mode": {
    "name": "ipython",
    "version": 3
   },
   "file_extension": ".py",
   "mimetype": "text/x-python",
   "name": "python",
   "nbconvert_exporter": "python",
   "pygments_lexer": "ipython3",
   "version": "3.10.8"
  }
 },
 "nbformat": 4,
 "nbformat_minor": 5
}
