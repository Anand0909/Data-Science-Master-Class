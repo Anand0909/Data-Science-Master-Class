{
 "cells": [
  {
   "cell_type": "markdown",
   "id": "c25aa2f8-7793-431f-9165-096aef1136b1",
   "metadata": {},
   "source": [
    "Q1. You are writing code for a company. The requirement of the company is that you create a python function that will check whether the password entered by the user is correct or not. The function should take the password as input and return the string “Valid Password” if the entered password follows thebelow-given password guidelines else it should return “Invalid Password”.\n",
    "\n",
    "Note:\n",
    "1. The Password should contain at least two uppercase letters and at least two lowercase letters.\n",
    "2. The Password should contain at least a number and three special characters.\n",
    "3. The length of the password should be 10 characters long."
   ]
  },
  {
   "cell_type": "code",
   "execution_count": 8,
   "id": "5705e7a6-c21b-42bb-a9f2-e03ad428fe6d",
   "metadata": {},
   "outputs": [],
   "source": [
    "# Solution 1 : "
   ]
  },
  {
   "cell_type": "code",
   "execution_count": 4,
   "id": "af71498d-3be8-4ad4-ab40-0ac3a6d1a015",
   "metadata": {},
   "outputs": [],
   "source": [
    "def validate_password(password):\n",
    "    \n",
    "    # Check password lenth\n",
    "    if len(password)!=10:\n",
    "        return\"invalid password\"\n",
    "    \n",
    "    #check for uppercase, lowercase, digits and speial characters\n",
    "    uppercase_count=0\n",
    "    lowercase_count=0\n",
    "    digit_count=0\n",
    "    special_count=0\n",
    "    \n",
    "    for char in password:\n",
    "        if char.isupper():\n",
    "            uppercase_count+=1\n",
    "        elif char.islower():\n",
    "            lowercase_count+=1\n",
    "        elif char.isdigit():\n",
    "            digit_count+=1\n",
    "        else:\n",
    "            special_count+=1\n",
    "        \n",
    "    if uppercase_count<2 or lowercase_count<2 or digit_count<1 or special_count<3:\n",
    "        return \"Invalid Password\"\n",
    "    \n",
    "    return \"Valid Password\" \n"
   ]
  },
  {
   "cell_type": "code",
   "execution_count": 5,
   "id": "80414b1e-a985-41a5-ae52-42923cd21f8d",
   "metadata": {},
   "outputs": [
    {
     "name": "stdout",
     "output_type": "stream",
     "text": [
      "invalid password\n",
      "Valid Password\n"
     ]
    }
   ],
   "source": [
    "password1 = \"password@1234\"\n",
    "password2 = \"PAswor2@#$\"\n",
    "\n",
    "\n",
    "print(validate_password(password1))\n",
    "print(validate_password(password2))\n"
   ]
  },
  {
   "cell_type": "raw",
   "id": "f96e4031-450a-407d-b057-2d2d4b1d34c9",
   "metadata": {},
   "source": [
    "Q2. Solve the below-given questions using at least one of the following:\n",
    "1. Lambda function\n",
    "2. Filter function\n",
    "3. Map function\n",
    "4. List Comprehension\n",
    "\n",
    " Check if the string starts with a particular letter\n",
    " Check if the string is numeric\n",
    " Sort a list of tuples having fruit names and their quantity. [(\"mango\",99),(\"orange\",80), (\"grapes\", 1000)]\n",
    " Find the squares of numbers from 1 to 10\n",
    " Find the cube root of numbers from 1 to 10\n",
    " Check if a given number is even\n",
    " Filter odd numbers from the given list.[1,2,3,4,5,6,7,8,9,10]\n",
    " Sort a list of integers into positive and negative integers lists. [1,2,3,4,5,6,-1,-2,-3,-4,-5,0]"
   ]
  },
  {
   "cell_type": "code",
   "execution_count": 9,
   "id": "6114ea5d-175c-47ec-aa07-9737b5cc4834",
   "metadata": {},
   "outputs": [],
   "source": [
    "# Solution 2 : "
   ]
  },
  {
   "cell_type": "code",
   "execution_count": 17,
   "id": "11dbcf00-5614-4636-8eeb-54f30911e38e",
   "metadata": {},
   "outputs": [
    {
     "name": "stdout",
     "output_type": "stream",
     "text": [
      "True\n"
     ]
    }
   ],
   "source": [
    "# check if the string starts with a particular letter (Lambda function) :\n",
    "\n",
    "string = \"Anand\"\n",
    "\n",
    "start_with_a = lambda text:text.startswith(\"A\")\n",
    "result = start_with_a(string)\n",
    "\n",
    "print(start_with_a(string))\n",
    "\n",
    "# Note : startswith function is case sensitive\n"
   ]
  },
  {
   "cell_type": "code",
   "execution_count": 27,
   "id": "178168a7-0810-43ed-999e-073042386015",
   "metadata": {},
   "outputs": [
    {
     "name": "stdout",
     "output_type": "stream",
     "text": [
      "[False, True, False, True]\n"
     ]
    }
   ],
   "source": [
    "# check if each string in a list start with a particular letter (map function with lambda expression) :\n",
    "\n",
    "\n",
    "string1 = [\"apple\",\"banana\",\"cherry\",\"berry\"]\n",
    "\n",
    "start_with_b = list(map(lambda text:text.startswith(\"b\"),string1))\n",
    "\n",
    "print(start_with_b)"
   ]
  },
  {
   "cell_type": "code",
   "execution_count": 18,
   "id": "2c508ff6-bb95-41f3-8d58-6ba15a794734",
   "metadata": {},
   "outputs": [
    {
     "name": "stdout",
     "output_type": "stream",
     "text": [
      "['123', '45']\n"
     ]
    }
   ],
   "source": [
    "# check if string is numeric - List comprehension (using lambda function) :\n",
    "\n",
    "string1=[\"123\",\"hello\",\"45\"]\n",
    "\n",
    "is_numeric = lambda text: text.isdigit()\n",
    "\n",
    "numeric_string = [text for text in string1 if is_numeric(text)]\n",
    "\n",
    "print(numeric_string)"
   ]
  },
  {
   "cell_type": "code",
   "execution_count": 19,
   "id": "c491aa63-e12f-4527-a310-6d513c73b547",
   "metadata": {},
   "outputs": [
    {
     "name": "stdout",
     "output_type": "stream",
     "text": [
      "[('grapes', 1000), ('mango', 99), ('orange', 80)]\n"
     ]
    }
   ],
   "source": [
    "# sort a list of tuple having fruit names and their quanity (using lambda function with sorted()) :\n",
    "\n",
    "fruits = [(\"mango\",99),(\"orange\",80),(\"grapes\",1000)]\n",
    "\n",
    "sorted_fruits = sorted(fruits, key = lambda x:x[1], reverse = True)\n",
    "\n",
    "print(sorted_fruits)"
   ]
  },
  {
   "cell_type": "code",
   "execution_count": 20,
   "id": "aea72e09-328a-421d-b5c1-a1c0e0d7a2e1",
   "metadata": {},
   "outputs": [
    {
     "name": "stdout",
     "output_type": "stream",
     "text": [
      "[1, 4, 9, 16, 25, 36, 49, 64, 81, 100]\n"
     ]
    }
   ],
   "source": [
    "# find the square of numbers from 1 to 10 (list comprehension) :\n",
    "\n",
    "square = [x**2 for x in range(1,11)]\n",
    "\n",
    "print(square)"
   ]
  },
  {
   "cell_type": "code",
   "execution_count": 21,
   "id": "079f3e19-dea1-46eb-bee8-cc212045bf43",
   "metadata": {},
   "outputs": [
    {
     "name": "stdout",
     "output_type": "stream",
     "text": [
      "[1.0, 1.2599210498948732, 1.4422495703074083, 1.5874010519681994, 1.7099759466766968, 1.8171205928321397, 1.912931182772389, 2.0, 2.080083823051904, 2.154434690031884]\n"
     ]
    }
   ],
   "source": [
    "# find the cube root of numbers from 1 to 10 (list comprehension) : \n",
    "\n",
    "cube_root = [x**(1/3) for x in range(1,11)]\n",
    "\n",
    "print(cube_root)"
   ]
  },
  {
   "cell_type": "code",
   "execution_count": 29,
   "id": "59fde706-86d1-4049-9db4-9a2af7ae6636",
   "metadata": {},
   "outputs": [
    {
     "name": "stdout",
     "output_type": "stream",
     "text": [
      "[1.0, 1.2599210498948732, 1.4422495703074083, 1.5874010519681994, 1.7099759466766968, 1.8171205928321397, 1.912931182772389, 2.0, 2.080083823051904, 2.154434690031884]\n"
     ]
    }
   ],
   "source": [
    "# find the cube root of numbers from 1 to 10 (map function) : \n",
    "\n",
    "numbers = range(1,11)\n",
    "\n",
    "cube_roots= list(map(lambda x:x**(1/3),numbers))\n",
    "print(cube_roots)"
   ]
  },
  {
   "cell_type": "code",
   "execution_count": 22,
   "id": "ead81b1c-f66b-46b2-a490-d68054f9815e",
   "metadata": {},
   "outputs": [
    {
     "name": "stdout",
     "output_type": "stream",
     "text": [
      "True\n"
     ]
    }
   ],
   "source": [
    "# check if given number is even (lambda function) : \n",
    "\n",
    "number = 48\n",
    "\n",
    "is_even = lambda number : number%2 == 0\n",
    "\n",
    "result = is_even(number)\n",
    "print(result)"
   ]
  },
  {
   "cell_type": "code",
   "execution_count": 23,
   "id": "099fa5f2-844c-40d9-991f-d4a2a33f8a2b",
   "metadata": {},
   "outputs": [
    {
     "name": "stdout",
     "output_type": "stream",
     "text": [
      "[1, 3, 5, 7, 9]\n"
     ]
    }
   ],
   "source": [
    "# filter odd number from a given list (filter function with lambda expression)\n",
    "\n",
    "numbers = [1,2,3,4,5,6,7,8,9,10]\n",
    "\n",
    "odd_numbers = list(filter(lambda x:x%2!=0, numbers))\n",
    "\n",
    "print(odd_numbers)"
   ]
  },
  {
   "cell_type": "code",
   "execution_count": 25,
   "id": "4158807e-03fd-42f9-bb7f-0593932abe73",
   "metadata": {},
   "outputs": [
    {
     "name": "stdout",
     "output_type": "stream",
     "text": [
      "[1, 2, 3, 4, 5, 6]\n",
      "[-1, -2, -3, -4, -5]\n"
     ]
    }
   ],
   "source": [
    "# sort a list of integer into positive and negative numbers (list comprehensions) : \n",
    "\n",
    "integers = [1,2,3,4,5,6,-1,-2,-3,-4,-5,0]\n",
    "\n",
    "positive_integer = [x for x in integers if x>0]\n",
    "negative_integer = [x for x in integers if x<0]\n",
    "\n",
    "print(positive_integer)\n",
    "print(negative_integer)"
   ]
  },
  {
   "cell_type": "code",
   "execution_count": null,
   "id": "e4e8cfd6-0e3d-446e-87d6-ed0f46d50b10",
   "metadata": {},
   "outputs": [],
   "source": []
  }
 ],
 "metadata": {
  "kernelspec": {
   "display_name": "Python 3 (ipykernel)",
   "language": "python",
   "name": "python3"
  },
  "language_info": {
   "codemirror_mode": {
    "name": "ipython",
    "version": 3
   },
   "file_extension": ".py",
   "mimetype": "text/x-python",
   "name": "python",
   "nbconvert_exporter": "python",
   "pygments_lexer": "ipython3",
   "version": "3.10.8"
  }
 },
 "nbformat": 4,
 "nbformat_minor": 5
}
