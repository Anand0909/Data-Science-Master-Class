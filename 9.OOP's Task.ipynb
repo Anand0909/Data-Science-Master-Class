{
 "cells": [
  {
   "cell_type": "code",
   "execution_count": 48,
   "id": "b0d6f4db-7861-42c7-aa9f-570cc3e40127",
   "metadata": {},
   "outputs": [],
   "source": [
    "# Q1, Create a vehicle class with an init method having instance variables as name_of_vehicle, max_speed and average_of_vehicle."
   ]
  },
  {
   "cell_type": "code",
   "execution_count": 49,
   "id": "9f97bb8b-dfe6-46da-93a7-2de0be6fd517",
   "metadata": {},
   "outputs": [],
   "source": [
    "# Solution 1> "
   ]
  },
  {
   "cell_type": "code",
   "execution_count": 71,
   "id": "d5266daf-e457-4d92-b377-9df315b450df",
   "metadata": {},
   "outputs": [],
   "source": [
    "class vehicle:\n",
    "    \n",
    "    def __init__(self,name,maxspeed,average):\n",
    "        self.name=name\n",
    "        self.maxspeed=maxspeed\n",
    "        self.average=average\n",
    "    \n",
    "    def name_of_vehicle(self):\n",
    "        return self.name\n",
    "    \n",
    "    def max_speed(self):\n",
    "        return self.maxspeed\n",
    "    \n",
    "    def average_of_vehicle(self):\n",
    "        return self.average"
   ]
  },
  {
   "cell_type": "code",
   "execution_count": 72,
   "id": "cc74aa0f-3811-45c2-b9f8-ab26a2faf519",
   "metadata": {},
   "outputs": [],
   "source": [
    "tata = vehicle(\"jaguar\",\"365km/h\",\"12\")"
   ]
  },
  {
   "cell_type": "code",
   "execution_count": 73,
   "id": "b921e008-9fa4-4888-83e5-d0e899615e7d",
   "metadata": {},
   "outputs": [
    {
     "data": {
      "text/plain": [
       "'12'"
      ]
     },
     "execution_count": 73,
     "metadata": {},
     "output_type": "execute_result"
    }
   ],
   "source": [
    "tata.average_of_vehicle()"
   ]
  },
  {
   "cell_type": "code",
   "execution_count": 74,
   "id": "45c82351-a0dc-4a68-9274-0f05667b5796",
   "metadata": {},
   "outputs": [],
   "source": [
    "# Q2. Create a child class car from the vehicle class created in Que 1, which will inherit the vehicle class.\n",
    "# Create a method named seating_capacity which takes capacity as an argument and returns the name of\n",
    "# the vehicle and its seating capacity."
   ]
  },
  {
   "cell_type": "code",
   "execution_count": 75,
   "id": "5734fbf2-cc82-4e67-bddc-bd95fb3f816e",
   "metadata": {},
   "outputs": [],
   "source": [
    "# Solution 2>"
   ]
  },
  {
   "cell_type": "code",
   "execution_count": 80,
   "id": "3af76df6-3a2b-4330-b140-cef62f6883e7",
   "metadata": {},
   "outputs": [],
   "source": [
    "class car(vehicle):\n",
    "    \n",
    "    def seating_capacity(self,seat):\n",
    "        return f\"The {self.name} has seating capacity of {seat}\""
   ]
  },
  {
   "cell_type": "code",
   "execution_count": 81,
   "id": "a54191d0-562d-4c9f-8408-1e703b1744d9",
   "metadata": {},
   "outputs": [],
   "source": [
    "car1 = car(\"tata punch\",\"90km/h\",\"25KM/l\")"
   ]
  },
  {
   "cell_type": "code",
   "execution_count": 82,
   "id": "f12b1d68-3499-4a02-89a3-5ddad8a5617d",
   "metadata": {},
   "outputs": [
    {
     "name": "stdout",
     "output_type": "stream",
     "text": [
      "The tata punch has seating capacity of 5\n"
     ]
    }
   ],
   "source": [
    "print(car1.seating_capacity(5))"
   ]
  },
  {
   "cell_type": "code",
   "execution_count": 83,
   "id": "e559cdcf-3a5e-4fab-8b1b-cc0c7917c6ec",
   "metadata": {},
   "outputs": [],
   "source": [
    "# Q3. What is multiple inheritance? Write a python code to demonstrate multiple inheritance."
   ]
  },
  {
   "cell_type": "code",
   "execution_count": 84,
   "id": "c41ec8f7-96c6-4561-b226-2f19f6f5feb0",
   "metadata": {},
   "outputs": [],
   "source": [
    "# solution 3>"
   ]
  },
  {
   "cell_type": "code",
   "execution_count": 86,
   "id": "dd48d9ca-dede-4f35-ab8d-78f36aef71f3",
   "metadata": {},
   "outputs": [],
   "source": [
    "# Multiple inheritance allows a class to inherit attributes and methods from more than one parent class. This enables code reusability and flexible class hierarchies\n",
    "# To create a class with multiple inheritance, list the parent classes within parentheses after the child class name"
   ]
  },
  {
   "cell_type": "code",
   "execution_count": 87,
   "id": "de35caaa-fb07-4690-b873-d9af8c7cfcf8",
   "metadata": {},
   "outputs": [],
   "source": [
    "# Example : "
   ]
  },
  {
   "cell_type": "code",
   "execution_count": 88,
   "id": "86189611-1af2-4f40-8e9a-d07e6de595ff",
   "metadata": {},
   "outputs": [
    {
     "name": "stdout",
     "output_type": "stream",
     "text": [
      "Eating...\n",
      "Breathing with lungs...\n",
      "Flying...\n",
      "Echolocating...\n"
     ]
    }
   ],
   "source": [
    "class Animal:\n",
    "    def eat(self):\n",
    "        print(\"Eating...\")\n",
    "\n",
    "class Mammal(Animal):\n",
    "    def breathe(self):\n",
    "        print(\"Breathing with lungs...\")\n",
    "\n",
    "class Bird(Animal):\n",
    "    def fly(self):\n",
    "        print(\"Flying...\")\n",
    "\n",
    "class Bat(Mammal, Bird):  # Bat inherits from Mammal and Bird\n",
    "    def echolocate(self):\n",
    "        print(\"Echolocating...\")\n",
    "\n",
    "bat = Bat()\n",
    "bat.eat()   # Inherited from Animal\n",
    "bat.breathe()  # Inherited from Mammal\n",
    "bat.fly()   # Inherited from Bird\n",
    "bat.echolocate()  # Specific to Bat\n"
   ]
  },
  {
   "cell_type": "code",
   "execution_count": 89,
   "id": "54bbbff9-62b6-4635-bb87-6eae331cb313",
   "metadata": {},
   "outputs": [],
   "source": [
    "# Q4. What are getter and setter in python? Create a class and create a getter and a setter method in this class."
   ]
  },
  {
   "cell_type": "code",
   "execution_count": 90,
   "id": "057d090b-be78-4b2d-9518-63d1a35a4e40",
   "metadata": {},
   "outputs": [],
   "source": [
    "# Solution 4>"
   ]
  },
  {
   "cell_type": "code",
   "execution_count": 92,
   "id": "50e6903f-04a0-4ca7-83c9-80e213cc1272",
   "metadata": {},
   "outputs": [],
   "source": [
    "# Getters and setters are methods used to control access to and modification of an object's attributes. They promote data encapsulation and maintainability.\n",
    "\n",
    "# Getters (Accessors): Methods that retrieve the value of an attribute.\n",
    "\n",
    "# Setters (Mutators): Methods that set or modify the value of an attribute, often with validation or side effects.\n",
    "\n",
    "# While Python doesn't have built-in \"getter\" and \"setter\" keywords, we can achieve this functionality using the @property decorator.\n",
    "\n",
    "# @property Decorator: Turns a method into a property, allowing it to be accessed like an attribute."
   ]
  },
  {
   "cell_type": "code",
   "execution_count": 94,
   "id": "e01e8b90-5f25-4526-9443-4bfce6b88178",
   "metadata": {},
   "outputs": [
    {
     "name": "stdout",
     "output_type": "stream",
     "text": [
      "Alice\n",
      "Bob\n",
      "Name must contain only letters.\n"
     ]
    }
   ],
   "source": [
    "class Person:\n",
    "    def __init__(self, name):\n",
    "        self._name = name  # Using a private attribute\n",
    "\n",
    "    @property\n",
    "    def name(self):  # Getter method\n",
    "        return self._name\n",
    "\n",
    "    @name.setter\n",
    "    def name(self, new_name):  # Setter method\n",
    "        if new_name.isalpha():  # Validation\n",
    "            self._name = new_name\n",
    "        else:\n",
    "            raise ValueError(\"Name must contain only letters.\")\n",
    "\n",
    "# Usage\n",
    "person = Person(\"Alice\")\n",
    "print(person.name)  # (accessing the getter)\n",
    "\n",
    "person.name = \"Bob\"  # Using the setter (with validation)\n",
    "print(person.name)  # Output: Bob\n",
    "\n",
    "try:\n",
    "    person.name = \"123\"  \n",
    "except ValueError as e:\n",
    "    print(e)  \n"
   ]
  },
  {
   "cell_type": "code",
   "execution_count": 95,
   "id": "0cc0adad-a174-4c81-be4e-7bc47438c838",
   "metadata": {},
   "outputs": [],
   "source": [
    "# Q5.What is method overriding in python? Write a python code to demonstrate method overriding."
   ]
  },
  {
   "cell_type": "code",
   "execution_count": 96,
   "id": "10709bd7-7f3c-4c14-bd2d-693874456248",
   "metadata": {},
   "outputs": [],
   "source": [
    "# solution 5>"
   ]
  },
  {
   "cell_type": "code",
   "execution_count": 97,
   "id": "ff09da34-6d47-4c56-b31f-d7abe5a274d3",
   "metadata": {},
   "outputs": [],
   "source": [
    "# Method overriding is a concept in object-oriented programming that allows a child class (subclass) to provide a specific implementation\n",
    "# of a method that is already defined in its parent class (superclass). This enables customization and flexibility in inheritance hierarchies.\n",
    "\n",
    "# Mechanism:\n",
    "\n",
    "# A method with the same name as a method in the parent class is defined in the child class.\n",
    "# When this method is called on a child class object, the child class's version of the method is executed, overriding the parent class's method."
   ]
  },
  {
   "cell_type": "code",
   "execution_count": 99,
   "id": "421931d4-f185-4af7-aaf7-d18aa1a229b8",
   "metadata": {},
   "outputs": [
    {
     "name": "stdout",
     "output_type": "stream",
     "text": [
      "Woof!\n",
      "Meow!\n"
     ]
    }
   ],
   "source": [
    "# Example :\n",
    "\n",
    "class Animal:\n",
    "    def make_sound(self):\n",
    "        print(\"Generic animal sound\")\n",
    "\n",
    "class Dog(Animal):\n",
    "    def make_sound(self):  # Overriding the make_sound method\n",
    "        print(\"Woof!\")\n",
    "\n",
    "class Cat(Animal):\n",
    "    def make_sound(self):  # Overriding the make_sound method\n",
    "        print(\"Meow!\")\n",
    "\n",
    "dog = Dog()\n",
    "dog.make_sound()  \n",
    "\n",
    "cat = Cat()\n",
    "cat.make_sound() \n"
   ]
  },
  {
   "cell_type": "code",
   "execution_count": null,
   "id": "65b4518c-83c1-45e0-9f44-85e51511939d",
   "metadata": {},
   "outputs": [],
   "source": []
  }
 ],
 "metadata": {
  "kernelspec": {
   "display_name": "Python 3 (ipykernel)",
   "language": "python",
   "name": "python3"
  },
  "language_info": {
   "codemirror_mode": {
    "name": "ipython",
    "version": 3
   },
   "file_extension": ".py",
   "mimetype": "text/x-python",
   "name": "python",
   "nbconvert_exporter": "python",
   "pygments_lexer": "ipython3",
   "version": "3.10.8"
  }
 },
 "nbformat": 4,
 "nbformat_minor": 5
}
