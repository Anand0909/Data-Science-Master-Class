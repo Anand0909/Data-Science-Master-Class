{
 "cells": [
  {
   "cell_type": "markdown",
   "id": "4d5ca506-c535-4293-bb2b-127fec46c7f3",
   "metadata": {},
   "source": [
    "# Q1. Write a program to accept percentage from the user and display the grade according to the following criteria: \n",
    "## Marks                    Grade \n",
    "## >90                        A \n",
    "## >80 and <=90               B \n",
    "## >=60 and <=80              C \n",
    "## below 60                   D \n"
   ]
  },
  {
   "cell_type": "code",
   "execution_count": 2,
   "id": "5e9d9b5d-0800-44a9-bb08-1e2d6287cb2b",
   "metadata": {},
   "outputs": [
    {
     "name": "stdin",
     "output_type": "stream",
     "text": [
      "Hey what is the marks you obtained  37\n"
     ]
    },
    {
     "name": "stdout",
     "output_type": "stream",
     "text": [
      "Your grades are very poor, it's D.....You need to work really hard to prove yourself\n"
     ]
    }
   ],
   "source": [
    "# Ans1. \n",
    "\n",
    "marks = int(input(\"Hey what is the marks you obtained \"))\n",
    "\n",
    "if marks> 90:\n",
    "    print(\"Hey your grades are A\")\n",
    "elif marks>80 and marks<=90 :\n",
    "    print(\"You get a grade B\")\n",
    "elif marks>=60 and marks<=80 :\n",
    "    print(\"You have received grade C, you need to work hard for next sem\")\n",
    "else:\n",
    "    print(\"Your grades are very poor, it's D.....You need to work really hard to prove yourself\")\n"
   ]
  },
  {
   "cell_type": "markdown",
   "id": "5b7f1d93-fb86-47c9-93e8-7dabe761c748",
   "metadata": {},
   "source": [
    "# 2. Write a program to accept the cost price of a bike and display the road tax to be paid according to the following criteria: \n",
    "## Tax    Cost Price  \n",
    "## 15%    >100000 \n",
    "## 10%    >50000 & <=100000\n",
    "## 5%     <=50000\n"
   ]
  },
  {
   "cell_type": "code",
   "execution_count": 16,
   "id": "9199562b-360c-44e4-ba4c-b0214149993a",
   "metadata": {},
   "outputs": [
    {
     "name": "stdin",
     "output_type": "stream",
     "text": [
      "What is the price of bike ?     95000\n"
     ]
    },
    {
     "name": "stdout",
     "output_type": "stream",
     "text": [
      "As the price of bike is less than or equal to 100K and greater than 50K, so road tax will 10% of price that is 9500.0\n"
     ]
    }
   ],
   "source": [
    "# Ans2. \n",
    "\n",
    "price = int(input(\"What is the price of bike ?    \"))\n",
    "\n",
    "if price > 100000 :\n",
    "    print(\"As the price of bike is greater than 100K, so road tax will 15% of price that is {T}\".format(T=price*0.15))\n",
    "elif price > 50000 and price <=100000 :\n",
    "     print(\"As the price of bike is less than or equal to 100K and greater than 50K, so road tax will 10% of price that is {T}\".format(T=price*0.1))\n",
    "else : \n",
    "    print(\"As the price of bike is lesser than 50K so road tax will 5% of price that is {T}\".format(T=price*0.05))\n",
    "\n"
   ]
  },
  {
   "cell_type": "markdown",
   "id": "a1cc4435-2bbd-4610-91a2-4a728971f3e2",
   "metadata": {},
   "source": [
    "# 3. Accept any city from the user and display monuments of that city. \n",
    "## City               Monument\n",
    "## Delhi              Red Fort \n",
    "## Agra               Taj Mahal  \n",
    "## Jaipur             Jal Mahal \n"
   ]
  },
  {
   "cell_type": "code",
   "execution_count": 19,
   "id": "d38843bc-e815-4b87-a6c8-ccb7a6a40997",
   "metadata": {},
   "outputs": [
    {
     "name": "stdin",
     "output_type": "stream",
     "text": [
      "Choose any city from the given list : ['Delhi', 'Agra', 'jaipur']\n",
      " Delhi\n"
     ]
    },
    {
     "name": "stdout",
     "output_type": "stream",
     "text": [
      "Since you have selected Delhi, so monument of this city is Red Fort\n"
     ]
    }
   ],
   "source": [
    "# Ans 3.\n",
    "\n",
    "City = [\"Delhi\", \"Agra\", \"jaipur\"]\n",
    "\n",
    "selection = input(f\"Choose any city from the given list : {City}\\n\")\n",
    "\n",
    "if selection == \"Delhi\" :\n",
    "    print(\"Since you have selected Delhi, so monument of this city is Red Fort\")\n",
    "elif selection == \"Agra\" :\n",
    "     print(\"Since you have selected Agra, so monument of this city is Taj Mahal\")\n",
    "else :\n",
    "     print(\"Since you have selected Jaipur, so monument of this city is Jal Mahal\")"
   ]
  },
  {
   "cell_type": "markdown",
   "id": "87e0807f-da5e-4882-bfd5-6bae072c51a0",
   "metadata": {},
   "source": [
    "# 4. Check how many times a given number can be divided by 3 before it is less than or equal to 10. \n"
   ]
  },
  {
   "cell_type": "code",
   "execution_count": 10,
   "id": "ce6e4b20-9ea6-4739-bfef-af99f319f6b6",
   "metadata": {},
   "outputs": [
    {
     "name": "stdin",
     "output_type": "stream",
     "text": [
      "Enter the number    125\n"
     ]
    },
    {
     "name": "stdout",
     "output_type": "stream",
     "text": [
      "Given number can be divided by 3, 3 times before it is less than or equal to 10\n"
     ]
    }
   ],
   "source": [
    "# Ans 4.\n",
    "\n",
    "number = int(input(\"Enter the number   \"))\n",
    "\n",
    "count = 0\n",
    "\n",
    "while number > 10 :\n",
    "    number /=3\n",
    "    count += 1\n",
    "\n",
    "print(f\"Given number can be divided by 3, {count} times before it is less than or equal to 10\")"
   ]
  },
  {
   "cell_type": "markdown",
   "id": "7a3be370-9c47-4149-9f47-b3e067c024d2",
   "metadata": {},
   "source": [
    "# 5. Why and When to Use while Loop in Python give a detailed description with example "
   ]
  },
  {
   "cell_type": "code",
   "execution_count": 11,
   "id": "8d7ed818-3a27-4d81-8359-53d22e0c6044",
   "metadata": {},
   "outputs": [],
   "source": [
    "# Ans 5.\n",
    "\n",
    "#It is useful when you want to perform a task repeatedly until a certain condition is met. Here are some situations where you might use a while loop in Python:\n",
    "\n",
    "# When you want to process items in a list or other iterable until a certain condition is met.\n",
    "# When you want to repeat an operation until a user inputs a specific value or condition.\n",
    "# When you want to perform a task until a certain event occurs."
   ]
  },
  {
   "cell_type": "code",
   "execution_count": 1,
   "id": "23aba3de-934e-492f-9c48-c45609fe5951",
   "metadata": {},
   "outputs": [
    {
     "name": "stdin",
     "output_type": "stream",
     "text": [
      "Please enter a positive number:  -12\n",
      "Invalid input, kindly provide a positve number:  -34\n",
      "Invalid input, kindly provide a positve number:  22\n"
     ]
    },
    {
     "name": "stdout",
     "output_type": "stream",
     "text": [
      "Here you go, number provided by you is 22\n"
     ]
    }
   ],
   "source": [
    "# Ex,  Suppose you want to keep asking a user to enter a number until they enter a positive number. You can use a while loop to accomplish this task:\n",
    "\n",
    "number = int(input(\"Please enter a positive number: \"))\n",
    "\n",
    "while number <=0:\n",
    "    number = int(input(\"Invalid input, kindly provide a positve number: \"))\n",
    "  \n",
    "print(\"Here you go, number provided by you is {}\".format(number)) \n",
    "\n",
    "    "
   ]
  },
  {
   "cell_type": "markdown",
   "id": "7d03680b-db15-46bc-998c-dffa11d1bccb",
   "metadata": {},
   "source": [
    "# 6. Use nested while loop to print 3 different pattern. "
   ]
  },
  {
   "cell_type": "code",
   "execution_count": 3,
   "id": "e65f1c6d-5c76-45c8-aa8b-916c864885bc",
   "metadata": {},
   "outputs": [
    {
     "name": "stdout",
     "output_type": "stream",
     "text": [
      "*\n",
      "*\n",
      "*\n",
      "*\n",
      "*\n"
     ]
    }
   ],
   "source": [
    "# Ans 6.\n",
    "\n",
    "#ex.1\n",
    "\n",
    "i = 1\n",
    "\n",
    "while i <=5:\n",
    "    print(\"*\")\n",
    "    i=i+1\n"
   ]
  },
  {
   "cell_type": "code",
   "execution_count": 6,
   "id": "e772f27a-1488-4d34-b4f4-76ae0aca53af",
   "metadata": {},
   "outputs": [
    {
     "name": "stdout",
     "output_type": "stream",
     "text": [
      "**********"
     ]
    }
   ],
   "source": [
    "#ex.1\n",
    "\n",
    "i = 1\n",
    "\n",
    "while i <=10:\n",
    "    print(\"*\", end = \"\")\n",
    "    i=i+1"
   ]
  },
  {
   "cell_type": "code",
   "execution_count": 8,
   "id": "c3dfa9dd-de90-4f1e-9586-6bdea3f8c8c5",
   "metadata": {},
   "outputs": [
    {
     "name": "stdout",
     "output_type": "stream",
     "text": [
      "*****\n",
      "*****\n",
      "*****\n",
      "*****\n",
      "*****\n",
      "*****\n",
      "*****\n",
      "*****\n",
      "*****\n",
      "*****\n"
     ]
    }
   ],
   "source": [
    "#ex.3\n",
    "\n",
    "i = 1\n",
    "\n",
    "while i <=10:\n",
    "    j=1\n",
    "    while j<=5:\n",
    "        print(\"*\", end = \"\")\n",
    "        j=j+1\n",
    "    print()\n",
    "    i=i+1"
   ]
  },
  {
   "cell_type": "code",
   "execution_count": 9,
   "id": "c3f84071-9dba-4bd3-bc96-288b3ae46ded",
   "metadata": {},
   "outputs": [
    {
     "name": "stdout",
     "output_type": "stream",
     "text": [
      "*\n",
      "**\n",
      "***\n",
      "****\n",
      "*****\n",
      "******\n",
      "*******\n",
      "********\n",
      "*********\n",
      "**********\n"
     ]
    }
   ],
   "source": [
    "#ex.4\n",
    "\n",
    "i = 1\n",
    "\n",
    "while i <=10:\n",
    "    j=1\n",
    "    while j<=i:\n",
    "        print(\"*\", end = \"\")\n",
    "        j=j+1\n",
    "    print()\n",
    "    i=i+1"
   ]
  },
  {
   "cell_type": "code",
   "execution_count": 12,
   "id": "69ae99ac-11d8-42da-8fbb-d4827b0936a3",
   "metadata": {},
   "outputs": [
    {
     "name": "stdout",
     "output_type": "stream",
     "text": [
      "*********\n",
      "********\n",
      "*******\n",
      "******\n",
      "*****\n",
      "****\n",
      "***\n",
      "**\n",
      "*\n",
      "\n"
     ]
    }
   ],
   "source": [
    "#ex.5\n",
    "\n",
    "i = 1\n",
    "\n",
    "while i <=10:\n",
    "    j=1\n",
    "    while j<=10-i:\n",
    "        print(\"*\", end = \"\")\n",
    "        j=j+1\n",
    "    print()\n",
    "    i=i+1"
   ]
  },
  {
   "cell_type": "markdown",
   "id": "ea1c6482-96c3-4b95-a28a-f697150da69f",
   "metadata": {},
   "source": [
    "# 7. Reverse a while loop to display numbers from 10 to 1. \n"
   ]
  },
  {
   "cell_type": "code",
   "execution_count": 13,
   "id": "83c63d44-16b3-4e91-800a-8ae40b8d653e",
   "metadata": {},
   "outputs": [
    {
     "name": "stdout",
     "output_type": "stream",
     "text": [
      "10\n",
      "9\n",
      "8\n",
      "7\n",
      "6\n",
      "5\n",
      "4\n",
      "3\n",
      "2\n",
      "1\n"
     ]
    }
   ],
   "source": [
    "# Ans 7.\n",
    "\n",
    "x = 10\n",
    "\n",
    "while x>=1:\n",
    "    print(x)\n",
    "    x-=1"
   ]
  },
  {
   "cell_type": "markdown",
   "id": "49c3589e-12d3-409d-95be-050999b8bee4",
   "metadata": {},
   "source": [
    "# 8. Reverse a while loop to display numbers from 1 to 10. "
   ]
  },
  {
   "cell_type": "code",
   "execution_count": 14,
   "id": "85242cf5-29da-4b14-8d31-855cec0a7659",
   "metadata": {},
   "outputs": [
    {
     "name": "stdout",
     "output_type": "stream",
     "text": [
      "1\n",
      "2\n",
      "3\n",
      "4\n",
      "5\n",
      "6\n",
      "7\n",
      "8\n",
      "9\n",
      "10\n"
     ]
    }
   ],
   "source": [
    "# Ans 8.\n",
    "\n",
    "x = 1\n",
    "\n",
    "while x<=10:\n",
    "    print(x)\n",
    "    x+=1"
   ]
  },
  {
   "cell_type": "code",
   "execution_count": null,
   "id": "e73086cb-668b-4aa3-80b5-d6841fae87bf",
   "metadata": {},
   "outputs": [],
   "source": []
  }
 ],
 "metadata": {
  "kernelspec": {
   "display_name": "Python 3 (ipykernel)",
   "language": "python",
   "name": "python3"
  },
  "language_info": {
   "codemirror_mode": {
    "name": "ipython",
    "version": 3
   },
   "file_extension": ".py",
   "mimetype": "text/x-python",
   "name": "python",
   "nbconvert_exporter": "python",
   "pygments_lexer": "ipython3",
   "version": "3.10.8"
  }
 },
 "nbformat": 4,
 "nbformat_minor": 5
}
