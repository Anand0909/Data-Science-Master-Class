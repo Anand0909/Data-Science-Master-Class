{
 "cells": [
  {
   "cell_type": "code",
   "execution_count": 1,
   "id": "1b6c8068-4728-40d2-8f96-f3c8f844f179",
   "metadata": {},
   "outputs": [],
   "source": [
    "# Q1. What is a database? Differentiate between SQL and NoSQL databases."
   ]
  },
  {
   "cell_type": "code",
   "execution_count": 2,
   "id": "a5d4a6d4-ef27-4c59-a096-a8fc9e021066",
   "metadata": {},
   "outputs": [],
   "source": [
    "# Solution 1>\n",
    "# Database : \n",
    "\n",
    "# A database is a structured collection of data electronically stored and organized in a way that allows for easy access, retrieval, manipulation, and analysis. \n",
    "# It's like a giant digital filing cabinet that efficiently stores and manages information.\n",
    "\n",
    "# SQL (Structured Query Language) Databases:\n",
    "\n",
    "# Structure: Relational databases with a fixed schema (predefined structure) organized in tables with rows and columns.\n",
    "# Data: Structured data (tabular format) like customer information, financial records, or inventory.\n",
    "# Access: Uses SQL, a standardized language, for querying and manipulating data.\n",
    "# Strengths: Excellent for complex data relationships, ACID compliance (ensures data integrity), and well-suited for traditional business applications.\n",
    "# Weaknesses: Can be less flexible for unstructured data and may struggle with horizontal scaling (adding more servers) for massive datasets\n",
    "\n",
    "\n",
    "# NoSQL (Not Only SQL) Databases:\n",
    "\n",
    "# Structure: Non-relational databases with flexible schema, allowing for various data formats like documents, key-value pairs, graphs, or wide-column stores.\n",
    "# Data: Often handles unstructured data (e.g., emails, social media posts, sensor readings) or data with frequently changing structures.\n",
    "# Access: Uses various query languages specific to each NoSQL database type.\n",
    "# Strengths: Highly scalable (adding more servers for massive datasets is easier), flexible for diverse data formats, and good for big data applications.\n",
    "# Weaknesses: May offer weaker consistency guarantees compared to SQL and can be less intuitive for complex data relationships."
   ]
  },
  {
   "cell_type": "code",
   "execution_count": 3,
   "id": "605f359b-2541-4cc8-ba16-b3fdab66e000",
   "metadata": {},
   "outputs": [],
   "source": [
    "# Q2. What is DDL? Explain why CREATE, DROP, ALTER, and TRUNCATE are used with an example."
   ]
  },
  {
   "cell_type": "code",
   "execution_count": 7,
   "id": "82300c18-7279-41b5-a481-8303949c1a5a",
   "metadata": {},
   "outputs": [],
   "source": [
    "# Solution 2>\n",
    "\n",
    "# DDL stands for Data Definition Language. It's a subset of SQL specifically used to define and manipulate the structure of database objects like\n",
    "# tables and views.Unlike DML (Data Manipulation Language) that deals with actual data in the tables, DDL focuses on creating, modifying,\n",
    "# and removing the database schema itself.\n",
    "\n",
    "# 1. CREATE: Used to define a new table or view within the database.\n",
    "\n",
    "# Example : \n",
    "# CREATE TABLE Customers (\n",
    "#     customer_id INT PRIMARY KEY,\n",
    "#     name VARCHAR(255) NOT NULL,\n",
    "#     email VARCHAR(255) UNIQUE\n",
    "# );\n",
    "\n",
    "# 2. DROP: Permanently removes a table or view from the database. Use with caution as dropped objects cannot be easily recovered.\n",
    "\n",
    "# Example : \n",
    "# SQL\n",
    "# DROP TABLE Old_Orders;\n",
    "\n",
    "# 3. ALTER: Modifies the structure of an existing table, allowing you to add, remove, or change columns, constraints, or other table definitions.\n",
    "\n",
    "# Example:\n",
    "# SQL\n",
    "# ALTER TABLE Products ADD COLUMN stock_count INT DEFAULT 0;\n",
    "\n",
    "    \n",
    "# 4. TRUNCATE: Quickly removes all rows of data from a table, but preserves the table structure itself. \n",
    "#    It's generally faster than using DELETE without a WHERE clause, but cannot be rolled back.\n",
    "\n",
    "# Example :    \n",
    "# SQL\n",
    "# TRUNCATE TABLE Carts;"
   ]
  },
  {
   "cell_type": "code",
   "execution_count": 8,
   "id": "fd6bfca9-d149-4269-a5c0-4b9fd2a6ae07",
   "metadata": {},
   "outputs": [],
   "source": [
    "# Q3. What is DML? Explain INSERT, UPDATE, and DELETE with an example."
   ]
  },
  {
   "cell_type": "code",
   "execution_count": 9,
   "id": "890c03e7-dbf2-4d2f-86a7-67e2c09c068c",
   "metadata": {},
   "outputs": [],
   "source": [
    "# Solution 2>\n",
    "\n",
    "# DML stands for Data Manipulation Language. It's another crucial part of SQL that deals with modifying the actual data stored within your database tables. \n",
    "# Unlike DDL (Data Definition Language) that focuses on the structure (tables, views), DML allows you to interact with the data itself through:\n",
    "    \n",
    "# INSERT: Adds new rows of data to a table.\n",
    "\n",
    "# Example:\n",
    "# INSERT INTO Customers (customer_id, name, email)\n",
    "# VALUES (1001, 'John Doe', 'john.doe@email.com');\n",
    "\n",
    "# UPDATE: Modifies existing data in a table based on a specific condition.\n",
    "\n",
    "# Example:\n",
    "# UPDATE Products\n",
    "# SET price = price * 1.1  -- Increase price by 10%\n",
    "# WHERE category = 'Electronics';\n",
    "\n",
    "# DELETE: Removes existing rows of data from a table based on a condition.\n",
    "\n",
    "# Example:\n",
    "# DELETE FROM Orders\n",
    "# WHERE order_date < '2024-01-01';"
   ]
  },
  {
   "cell_type": "code",
   "execution_count": 10,
   "id": "bd465d94-ccb0-4049-9cbe-adaa749041cb",
   "metadata": {},
   "outputs": [],
   "source": [
    "# Q4. What is DQL? Explain SELECT with an example."
   ]
  },
  {
   "cell_type": "code",
   "execution_count": 11,
   "id": "9c270954-a885-4074-a4bb-5117c3404057",
   "metadata": {},
   "outputs": [],
   "source": [
    "# Sloution 4>\n",
    "\n",
    "# DQL stands for Data Query Language. It's the component of SQL that allows you to retrieve and manipulate data from your database tables. \n",
    "# Unlike DML (Data Manipulation Language) that modifies data, DQL focuses on extracting specific information for analysis or presentation.\n",
    "\n",
    "# The primary DQL statement is:\n",
    "\n",
    "# SELECT: Used to retrieve data from one or more tables. You can specify which columns (data points) you want and filter the results based on conditions.\n",
    "\n",
    "# Example : \n",
    "    \n",
    "# SELECT customer_id, name, email\n",
    "# FROM Customers\n",
    "# WHERE city = 'New York';\n"
   ]
  },
  {
   "cell_type": "code",
   "execution_count": 12,
   "id": "7d3d2812-2486-4d93-b070-8510314eac7c",
   "metadata": {},
   "outputs": [],
   "source": [
    "# Q5. Explain Primary Key and Foreign Key"
   ]
  },
  {
   "cell_type": "code",
   "execution_count": 14,
   "id": "cb958d8e-db9c-4d82-a51c-d270d8fba40d",
   "metadata": {},
   "outputs": [],
   "source": [
    "# Solution 5>\n",
    "\n",
    "# Primary keys and foreign keys are essential concepts in relational database design that ensure data integrity and establish relationships between tables. \n",
    "\n",
    "# Primary Key:\n",
    "\n",
    "# A column (or a combination of columns) within a table that uniquely identifies each row.\n",
    "# No two rows can have the same value for the primary key.\n",
    "# Enforces data integrity by preventing duplicate records.\n",
    "# Often an auto-incrementing integer (e.g., ID) or a unique identifier (e.g., social security number).\n",
    "# Foreign Key:\n",
    "\n",
    "# A column (or set of columns) in one table that references the primary key of another table.\n",
    "# Creates a link between related tables, establishing a parent-child relationship.\n",
    "# Ensures data consistency by preventing orphaned records (child table entries referencing non-existent rows in the parent table).\n",
    "\n"
   ]
  },
  {
   "cell_type": "code",
   "execution_count": 15,
   "id": "5172b7d3-2aaa-42d2-8b25-35593791cdf4",
   "metadata": {},
   "outputs": [],
   "source": [
    "# Q6. Write a python code to connect MySQL to python. Explain the cursor() and execute() method."
   ]
  },
  {
   "cell_type": "code",
   "execution_count": 19,
   "id": "a52a19d2-0c72-4394-9b32-b788ccfd4d4d",
   "metadata": {},
   "outputs": [],
   "source": [
    "# Solution 6>\n",
    "\n",
    "# Code : \n",
    "\n",
    "# import mysql.connector\n",
    "# mydb = mysql.connector.connect(\n",
    "#   host=\"localhost\",\n",
    "#   user=\"abc\",\n",
    "#   password=\"password\"\n",
    "# )\n",
    "# mycursor = mydb.cursor()\n",
    "# mycursor.execute(\"insert into test2.test_table values(123,'anand', 456 , 564.34, 'chaubey')\")\n",
    "# mydb.commit()\n",
    "# mydb.close()\n",
    "\n",
    "# Explanation : \n",
    "\n",
    "# Import: We import the mysql.connector library to connect to MySQL from Python.\n",
    "# Connection: We establish a connection to the MySQL database using mysql.connector.connect(), providing your hostname, username, password, and database name.\n",
    "# Cursor: We create a cursor object using mydb.cursor(). This cursor acts as an intermediary between your Python code and the database,\n",
    "# allowing you to execute SQL statements.\n",
    "# Execute: We define an SQL query (replace with your desired query) and execute it using mycursor.execute(sql). This sends the query to the database\n",
    "# for processing.\n",
    "# commit : using commit at the end, we ensure that changes are applied successfully and become permanent in the database.\n",
    "# Close: Finally, we close the database connection using mydb.close(). This is essential to release resources and avoid connection leaks"
   ]
  },
  {
   "cell_type": "code",
   "execution_count": 20,
   "id": "ea8b65c4-bd74-43fe-9ffe-04e1962840b0",
   "metadata": {},
   "outputs": [],
   "source": [
    "# Q7. Give the order of execution of SQL clauses in an SQL query."
   ]
  },
  {
   "cell_type": "code",
   "execution_count": 21,
   "id": "5ea8a76d-28ff-4601-9852-78d8d14b7eb5",
   "metadata": {},
   "outputs": [],
   "source": [
    "# Solution 7>\n",
    "\n",
    "# FROM & JOINs: Identify tables and combine data (if joining).\n",
    "# WHERE: Filter rows based on conditions.\n",
    "# GROUP BY (Optional): Group rows by columns.\n",
    "# HAVING (Optional): Filter groups based on aggregate values.\n",
    "# SELECT: Choose the columns to retrieve (can involve calculations).\n",
    "# DISTINCT (Optional): Remove duplicate rows.\n",
    "# ORDER BY (Optional): Sort the results.\n",
    "# LIMIT/OFFSET (Optional): Control the number and starting point of retrieved rows (pagination)."
   ]
  },
  {
   "cell_type": "code",
   "execution_count": null,
   "id": "ea45d14f-7365-42b3-abc5-594b5a381acc",
   "metadata": {},
   "outputs": [],
   "source": []
  }
 ],
 "metadata": {
  "kernelspec": {
   "display_name": "Python 3 (ipykernel)",
   "language": "python",
   "name": "python3"
  },
  "language_info": {
   "codemirror_mode": {
    "name": "ipython",
    "version": 3
   },
   "file_extension": ".py",
   "mimetype": "text/x-python",
   "name": "python",
   "nbconvert_exporter": "python",
   "pygments_lexer": "ipython3",
   "version": "3.10.8"
  }
 },
 "nbformat": 4,
 "nbformat_minor": 5
}
