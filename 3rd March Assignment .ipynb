{
 "cells": [
  {
   "cell_type": "markdown",
   "id": "011d1958-2292-4e9f-be2e-1dafcfab2456",
   "metadata": {},
   "source": [
    "# Q1. Which keyword is used to create a function? Create a function to return a list of odd numbers in the range of 1 to 25."
   ]
  },
  {
   "cell_type": "code",
   "execution_count": 1,
   "id": "99c43200-1f02-473c-8f1a-c495331690e6",
   "metadata": {},
   "outputs": [],
   "source": [
    "# Ans1. def keyword used to create a function."
   ]
  },
  {
   "cell_type": "code",
   "execution_count": 5,
   "id": "9bdf8531-35e7-445b-b5ce-8420bce99452",
   "metadata": {},
   "outputs": [],
   "source": [
    "# Function to return a list of odd numbers\n",
    "\n",
    "def odd_num(a):\n",
    "    n =[]\n",
    "    for i in a:\n",
    "        if i % 2 !=0:\n",
    "            n.append(i)\n",
    "    return n"
   ]
  },
  {
   "cell_type": "code",
   "execution_count": 6,
   "id": "e1c6cc81-abc3-4d86-86bb-e32ed7978aaa",
   "metadata": {},
   "outputs": [
    {
     "data": {
      "text/plain": [
       "[1, 3, 5, 7, 9, 11, 13, 15, 17, 19, 21, 23, 25]"
      ]
     },
     "execution_count": 6,
     "metadata": {},
     "output_type": "execute_result"
    }
   ],
   "source": [
    "odd_num(range(1,26))"
   ]
  },
  {
   "cell_type": "markdown",
   "id": "f9d279d8-86ea-4b20-9552-425e7bbf6807",
   "metadata": {},
   "source": [
    "# Q2. Why *args and **kwargs is used in some functions? Create a function each for *args and **kwargs to demonstrate their use."
   ]
  },
  {
   "cell_type": "code",
   "execution_count": 1,
   "id": "5960c4fb-efd3-40af-93f3-32452650828c",
   "metadata": {},
   "outputs": [],
   "source": [
    "#Ans2. *args used for function where n numbers of elements to be added as per requirement \n",
    "# where **kwargs used in to add n number of key value pair in any function."
   ]
  },
  {
   "cell_type": "code",
   "execution_count": 4,
   "id": "37ecd170-1d38-4dd2-8fe0-c9051989d9f0",
   "metadata": {},
   "outputs": [],
   "source": [
    "# function for *args\n",
    "\n",
    "def test1(*args):\n",
    "    return args"
   ]
  },
  {
   "cell_type": "code",
   "execution_count": 5,
   "id": "47a29a41-e089-483e-ae1f-2270e28a2ba5",
   "metadata": {},
   "outputs": [
    {
     "data": {
      "text/plain": [
       "(1, 3, 'Anand', (2+3j))"
      ]
     },
     "execution_count": 5,
     "metadata": {},
     "output_type": "execute_result"
    }
   ],
   "source": [
    "test1(1,3,\"Anand\",2+3j)"
   ]
  },
  {
   "cell_type": "code",
   "execution_count": 8,
   "id": "e34c5214-55c7-472a-a2f9-1c0a444ea2a2",
   "metadata": {},
   "outputs": [],
   "source": [
    "# function for *kwargs\n",
    "\n",
    "def test2(**kwargs):\n",
    "    return kwargs"
   ]
  },
  {
   "cell_type": "code",
   "execution_count": 9,
   "id": "69e780c4-503a-45b3-b8d9-8d3f35a42270",
   "metadata": {},
   "outputs": [
    {
     "data": {
      "text/plain": [
       "{'a': 12, 'b': 23, 'c': 34, 'd': ('Anand', 'Shankar', 'Chaubey')}"
      ]
     },
     "execution_count": 9,
     "metadata": {},
     "output_type": "execute_result"
    }
   ],
   "source": [
    "test2(a=12,b=23,c=34,d=(\"Anand\",\"Shankar\",\"Chaubey\"))"
   ]
  },
  {
   "cell_type": "markdown",
   "id": "f300a4fb-8d99-46f3-b8ae-761920a1f75d",
   "metadata": {},
   "source": [
    "# Q3. What is an iterator in python? Name the method used to initialise the iterator object and the method used for iteration. Use these methods to print the first five elements of the given list [2, 4, 6, 8, 10, 12, 14, 16,18, 20]."
   ]
  },
  {
   "cell_type": "code",
   "execution_count": 10,
   "id": "b653e1e0-5138-48d5-a543-bd93fce0e506",
   "metadata": {},
   "outputs": [
    {
     "name": "stdout",
     "output_type": "stream",
     "text": [
      "2\n",
      "4\n",
      "6\n",
      "8\n",
      "10\n"
     ]
    }
   ],
   "source": [
    "#Ans 3.  Iterators in Python are objects that allow you to iterate through all the elements in a collection, \n",
    "# regardless of their implementation.\n",
    "# Iterator in Python is an object that is used to iterate over iterable objects like lists, tuples, dicts, and sets. \n",
    "#The iterator object is initialized using the iter() method. It uses the next() method for iteration.\n",
    "#__iter__(): The iter() method is called for the initialization of an iterator. This returns an iterator object\n",
    "#__next__(): The next method returns the next value for the iterable. When we use a for loop to traverse any iterable object,\n",
    "#internally it uses the iter() method to get an iterator object, which further uses the next() method to iterate over. \n",
    "#This method raises a StopIteration to signal the end of the iteration.\n",
    "\n",
    "#Method1\n",
    "\n",
    "lst1=[2,4,6,8,10,12,14,16,18,20]\n",
    "\n",
    "num=iter(lst1)\n",
    "\n",
    "print(next(num))\n",
    "print(next(num))\n",
    "print(next(num))\n",
    "print(next(num))\n",
    "print(next(num))"
   ]
  },
  {
   "cell_type": "code",
   "execution_count": 11,
   "id": "de6da1d9-97ab-4a93-a47c-945cbf66f77d",
   "metadata": {},
   "outputs": [
    {
     "name": "stdout",
     "output_type": "stream",
     "text": [
      "2\n",
      "4\n",
      "6\n",
      "8\n",
      "10\n"
     ]
    }
   ],
   "source": [
    "#Method2\n",
    "\n",
    "lst1=[2,4,6,8,10,12,14,16,18,20]\n",
    "\n",
    "for i in lst1:\n",
    "    if i<=10:\n",
    "        print(i)"
   ]
  },
  {
   "cell_type": "code",
   "execution_count": 21,
   "id": "43330e88-69fb-4edb-bc7f-89f59aa3a7b7",
   "metadata": {},
   "outputs": [
    {
     "name": "stdout",
     "output_type": "stream",
     "text": [
      "2\n",
      "4\n",
      "6\n",
      "8\n",
      "10\n"
     ]
    }
   ],
   "source": [
    "#Method3\n",
    "\n",
    "lst1=[2,4,6,8,10,12,14,16,18,20]\n",
    "\n",
    "def test1(lst1):\n",
    "    for i in lst1:\n",
    "        if i<12:\n",
    "            yield i\n",
    "x=test1(lst1)\n",
    "\n",
    "print(next(x))\n",
    "print(next(x))\n",
    "print(next(x))\n",
    "print(next(x))\n",
    "print(next(x))"
   ]
  },
  {
   "cell_type": "code",
   "execution_count": 22,
   "id": "e05f1588-dd72-4239-8ca4-8fc764779e42",
   "metadata": {},
   "outputs": [
    {
     "name": "stdout",
     "output_type": "stream",
     "text": [
      "2\n",
      "4\n",
      "6\n",
      "8\n",
      "10\n"
     ]
    }
   ],
   "source": [
    "#Method4\n",
    "\n",
    "lst1=[2,4,6,8,10,12,14,16,18,20]\n",
    "\n",
    "x=test1(lst1)\n",
    "\n",
    "print(next(x))\n",
    "print(next(x))\n",
    "print(next(x))\n",
    "print(next(x))\n",
    "print(next(x))"
   ]
  },
  {
   "cell_type": "code",
   "execution_count": 23,
   "id": "96937e28-aad4-4518-8363-19488c4b7c93",
   "metadata": {},
   "outputs": [],
   "source": [
    "# Note : I am not able to understand use of yield clearly, just theoragically readt that out it will be useful for function generator\n",
    "# but actually how to use this in code I don't understand. IF any of you can let me understand this fully that will be very helpful"
   ]
  },
  {
   "cell_type": "markdown",
   "id": "8656a7bc-8999-4f83-bfdb-6c41a10db5e6",
   "metadata": {},
   "source": [
    "# Q4. What is a generator function in python? Why yield keyword is used? Give an example of a generator function."
   ]
  },
  {
   "cell_type": "code",
   "execution_count": 28,
   "id": "f74b05c3-dd69-4c89-8fc6-3ac899958ae8",
   "metadata": {},
   "outputs": [
    {
     "name": "stdout",
     "output_type": "stream",
     "text": [
      "0\n",
      "2\n",
      "4\n",
      "6\n",
      "8\n",
      "10\n"
     ]
    }
   ],
   "source": [
    "# Ans4. A generator is a special type of function which does not return a single value instead, it returns an iterator object\n",
    "# with a sequence of values. In a generator function, a yield statement is used rather than a return statement.\n",
    "\n",
    "#The generator function cannot include the return keyword. If you include it, then it will terminate the function. \n",
    "#The difference between yield and return is that yield returns a value and pauses the execution while maintaining the internal states, \n",
    "#whereas the return statement returns a value and terminates the execution of the function.\n",
    "#that's why yield keyword is used in generator function\n",
    "\n",
    "#Example : \n",
    "\n",
    "\n",
    "\n",
    "def generate_even_numbers(n):\n",
    "    for i in range(n):\n",
    "        if i % 2 == 0:\n",
    "            yield i\n",
    "\n",
    "even=generate_even_numbers(50)\n",
    "\n",
    "print(next(even))\n",
    "print(next(even))\n",
    "print(next(even))\n",
    "print(next(even))\n",
    "print(next(even))\n",
    "print(next(even))\n"
   ]
  },
  {
   "cell_type": "markdown",
   "id": "3262e884-da2a-4962-bee3-2ff463b968c3",
   "metadata": {},
   "source": [
    "# Q5. Create a generator function for prime numbers less than 1000. Use the next() method to print the first 20 prime numbers."
   ]
  },
  {
   "cell_type": "code",
   "execution_count": 6,
   "id": "db160189-f715-4105-ae94-55012eb50994",
   "metadata": {},
   "outputs": [
    {
     "name": "stdout",
     "output_type": "stream",
     "text": [
      "2\n",
      "3\n",
      "5\n",
      "7\n",
      "11\n",
      "13\n",
      "17\n",
      "19\n",
      "23\n",
      "29\n",
      "31\n",
      "37\n",
      "41\n",
      "43\n",
      "47\n",
      "53\n",
      "59\n",
      "61\n",
      "67\n",
      "71\n"
     ]
    }
   ],
   "source": [
    "# Ans5. \n",
    "\n",
    "def generate_prime_numbers(n):\n",
    "    for i in range(n):\n",
    "        if i>1:\n",
    "            for j in range (2,i):\n",
    "                if i % j == 0:\n",
    "                    break\n",
    "            else:\n",
    "                yield i\n",
    "\n",
    "prime=generate_prime_numbers(1000)\n",
    "\n",
    "print(next(prime))\n",
    "print(next(prime))\n",
    "print(next(prime))\n",
    "print(next(prime))\n",
    "print(next(prime))\n",
    "print(next(prime))\n",
    "print(next(prime))\n",
    "print(next(prime))\n",
    "print(next(prime))\n",
    "print(next(prime))\n",
    "print(next(prime))\n",
    "print(next(prime))\n",
    "print(next(prime))\n",
    "print(next(prime))\n",
    "print(next(prime))\n",
    "print(next(prime))\n",
    "print(next(prime))\n",
    "print(next(prime))\n",
    "print(next(prime))\n",
    "print(next(prime))"
   ]
  },
  {
   "cell_type": "code",
   "execution_count": null,
   "id": "760ace87-7720-411c-8054-caa4340b7c4e",
   "metadata": {},
   "outputs": [],
   "source": []
  }
 ],
 "metadata": {
  "kernelspec": {
   "display_name": "Python 3 (ipykernel)",
   "language": "python",
   "name": "python3"
  },
  "language_info": {
   "codemirror_mode": {
    "name": "ipython",
    "version": 3
   },
   "file_extension": ".py",
   "mimetype": "text/x-python",
   "name": "python",
   "nbconvert_exporter": "python",
   "pygments_lexer": "ipython3",
   "version": "3.10.8"
  }
 },
 "nbformat": 4,
 "nbformat_minor": 5
}
