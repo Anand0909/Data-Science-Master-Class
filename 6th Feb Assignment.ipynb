{
 "cells": [
  {
   "cell_type": "markdown",
   "id": "0d4d0228-2e8f-490c-9ca7-d39ebe68e372",
   "metadata": {},
   "source": [
    "# Q1. Create a function which will take a list as an argument and return the product of all the numbers after creating a flat list. Use the below-given list as an argument for your function.\n",
    "## list1 = [1,2,3,4, [44,55,66, True], False, (34,56,78,89,34), {1,2,3,3,2,1}, {1:34, \"key2\": [55, 67, 78, 89], 4: (45,22, 61, 34)}, [56, 'data science'], 'Machine Learning']\n",
    "## Note: you must extract numeric keys and values of the dictionary also."
   ]
  },
  {
   "cell_type": "code",
   "execution_count": 28,
   "id": "7ffcc00e-78cb-4560-a419-115fd4c6e40e",
   "metadata": {},
   "outputs": [
    {
     "name": "stdout",
     "output_type": "stream",
     "text": [
      "[159720, 449397312, 6, 25581270, 2053260, 56, 0]\n"
     ]
    }
   ],
   "source": [
    "def product_of_list(lst):\n",
    "    flat_list = []\n",
    "    product = 1\n",
    "    for item in lst:\n",
    "        if isinstance(item, (list, tuple, set)):\n",
    "            flat_list.extend(product_of_list(item))\n",
    "        elif isinstance(item, dict):\n",
    "            for value in item.values():\n",
    "                if isinstance(value, (list, tuple, set)):\n",
    "                    flat_list.extend(product_of_list(value))\n",
    "                elif isinstance(value, str) and value.isdigit():\n",
    "                    flat_list.append(int(value))\n",
    "                elif isinstance(value, (int, float)):\n",
    "                    product *= value\n",
    "                elif isinstance(value, dict):\n",
    "                    flat_list.extend(product_of_list(list(value.keys())))\n",
    "        elif isinstance(item, str) and item.isdigit():\n",
    "            flat_list.append(int(item))\n",
    "        elif isinstance(item, (int, float)):\n",
    "            product *= item\n",
    "    flat_list.append(product)\n",
    "    return flat_list\n",
    "\n",
    "list1 = [1,2,3,4, [44,55,66, True], False, (34,56,78,89,34), {1,2,3,3,2,1}, {1:34, \"key2\": [55, 67, 78, 89], 4: (45,22, 61, 34)}, [56, 'data science'], 'Machine Learning']\n",
    "result = product_of_list(list1)\n",
    "print(result)\n"
   ]
  },
  {
   "cell_type": "markdown",
   "id": "93e5561d-2dda-4060-be73-6dc4b2076aac",
   "metadata": {},
   "source": [
    "# Q2. Write a python program for encrypting a message sent to you by your friend. The logic of encryption should be such that, for a the output should be z. For b,the output should be y. For c, the output should be x respectively. Also, the whitespace should be replaced with a dollar sign. Keep the punctuation marks unchanged.\n",
    "## Input Sentence: I want to become a Data Scientist.\n",
    "## Encrypt the above input sentence using the program you just created.\n",
    "## Note: Convert the given input sentence into lowercase before encrypting. The final output should be lowercase."
   ]
  },
  {
   "cell_type": "code",
   "execution_count": 29,
   "id": "a2e205ad-c355-491c-8510-1acfe6a1c113",
   "metadata": {},
   "outputs": [
    {
     "name": "stdout",
     "output_type": "stream",
     "text": [
      "r$dzmg$gl$yvxlnv$z$wzgz$hxrvmgrhg.\n"
     ]
    }
   ],
   "source": [
    "# Ans 2. \n",
    "\n",
    "def encrypt_message(message):\n",
    "    encrypted = \"\"\n",
    "    for char in message.lower():\n",
    "        if char.isalpha():\n",
    "            encrypted += chr(219 - ord(char))\n",
    "#  For each character, we check if it is an alphabet using char.isalpha(). \n",
    "# we convert it to its corresponding encrypted character using the formula 219 - ord(char) (since the ASCII code for a is 97 and for z is 122, and 97 + 122 = 219). \n",
    "# For example, a will be encrypted to z, b to y, c to x, and so on.\n",
    "        elif char == \" \":\n",
    "            encrypted += \"$\"\n",
    "        else:\n",
    "            encrypted += char\n",
    "    return encrypted.lower()\n",
    "\n",
    "input_sentence = \"I want to become a Data Scientist.\"\n",
    "encrypted_sentence = encrypt_message(input_sentence)\n",
    "print(encrypted_sentence)\n"
   ]
  },
  {
   "cell_type": "code",
   "execution_count": 30,
   "id": "6f796f25-8fb2-4a60-8bbf-c6f0810488db",
   "metadata": {},
   "outputs": [],
   "source": [
    "# Note : This exercise is done by using CHAT GPT as I am not able to solve these questions by myself. I want a better understanding to solve these types of questions"
   ]
  },
  {
   "cell_type": "code",
   "execution_count": null,
   "id": "f33d4e1c-567d-432d-b4eb-fd8d5bca3e9c",
   "metadata": {},
   "outputs": [],
   "source": []
  }
 ],
 "metadata": {
  "kernelspec": {
   "display_name": "Python 3 (ipykernel)",
   "language": "python",
   "name": "python3"
  },
  "language_info": {
   "codemirror_mode": {
    "name": "ipython",
    "version": 3
   },
   "file_extension": ".py",
   "mimetype": "text/x-python",
   "name": "python",
   "nbconvert_exporter": "python",
   "pygments_lexer": "ipython3",
   "version": "3.10.8"
  }
 },
 "nbformat": 4,
 "nbformat_minor": 5
}
