{
 "cells": [
  {
   "cell_type": "markdown",
   "id": "c356127e-8369-4ad1-9b3d-a8c37087d4f4",
   "metadata": {},
   "source": [
    "# Q1. What are the characteristics of the tuples? Is tuple immutable?"
   ]
  },
  {
   "cell_type": "code",
   "execution_count": 20,
   "id": "6b97dcd2-32ca-45d0-8b82-6cf6f8e1e767",
   "metadata": {},
   "outputs": [],
   "source": [
    "# Ans. tuples are similar to list, it has all the feature as list except mutability.\n",
    "# tuple can store integer/float/string/complex number/boolean value/even a tuple itself or any list inside.\n",
    "# it is represented by closed small bracket/closed parenthesis () and all the elements were presented by putting comma after each other.\n",
    "# tuple are imutable in nature you can't change element in tuple."
   ]
  },
  {
   "cell_type": "markdown",
   "id": "d0fd6296-7944-4d03-95a2-d4e61b36688a",
   "metadata": {},
   "source": [
    "# Q2. What are the two tuple methods in python? Give an example of each method. Give a reason why tuples have only two in-built methods as compared to Lists."
   ]
  },
  {
   "cell_type": "code",
   "execution_count": 18,
   "id": "a3349ce5-41d6-4d44-a24d-065244e013c1",
   "metadata": {},
   "outputs": [
    {
     "data": {
      "text/plain": [
       "2"
      ]
     },
     "execution_count": 18,
     "metadata": {},
     "output_type": "execute_result"
    }
   ],
   "source": [
    "\"\"\"Ans. There are only two tuple methods count() and index() that a tuple object can call. In Python, tuples are immutables. Meaning, you cannot change \n",
    "items of a tuple once it is assigned but list are mutable in nature that's why tuples have only two in-built methods as compared to list\"\"\"\n",
    "\n",
    "# ex. \n",
    "#count : \n",
    "t = (1,2,3,4,5,6,7,8,9,True)\n",
    "\n",
    "# here count of 1 is in result shows 2 because in tuple count function value of True is also taken as 1 \n",
    "t.count(1)"
   ]
  },
  {
   "cell_type": "code",
   "execution_count": 9,
   "id": "74e9affe-0b1e-42aa-8c8d-6da519b3a054",
   "metadata": {},
   "outputs": [
    {
     "data": {
      "text/plain": [
       "4"
      ]
     },
     "execution_count": 9,
     "metadata": {},
     "output_type": "execute_result"
    }
   ],
   "source": [
    "# ex. \n",
    "#index : \n",
    "t = (1,2,3,4,5,6,7,8,9,True)\n",
    " \n",
    "t.index(5)"
   ]
  },
  {
   "cell_type": "markdown",
   "id": "59b76627-e388-41e7-9589-7e4ed59b6e0c",
   "metadata": {},
   "source": [
    "# Q3. Which collection datatypes in python do not allow duplicate items? Write a code using a set to remove duplicates from the given list.\n",
    "List = [1, 1, 1, 2, 1, 3, 1, 4, 2, 1, 2, 2, 2, 3, 2, 4, 3, 1, 3, 2, 3, 3, 3, 4, 4, 1, 4, 2, 4, 3, 4, 4]\n"
   ]
  },
  {
   "cell_type": "code",
   "execution_count": 15,
   "id": "e0924e74-c8a1-4918-aaf3-c66118814514",
   "metadata": {},
   "outputs": [],
   "source": [
    "#Ans. A Set doesn't have dublicates value \n",
    "#Ex is below \n",
    "\n"
   ]
  },
  {
   "cell_type": "code",
   "execution_count": 17,
   "id": "58cbb093-1aa7-4c11-b345-ed21a2dfd0d5",
   "metadata": {},
   "outputs": [
    {
     "name": "stdout",
     "output_type": "stream",
     "text": [
      "The list after removing dublicates are :[1, 2, 3, 4]\n"
     ]
    }
   ],
   "source": [
    "L1= [1, 1, 1, 2, 1, 3, 1, 4, 2, 1, 2, 2, 2, 3, 2, 4, 3, 1, 3, 2, 3, 3, 3, 4, 4, 1, 4, 2, 4, 3, 4, 4]\n",
    "result =[]\n",
    "for i in L1:\n",
    "    if i not in result:\n",
    "        result.append(i)\n",
    "\n",
    "#printing list after removing dublicates\n",
    "\n",
    "print(\"The list after removing dublicates are :\" + str(result))"
   ]
  },
  {
   "cell_type": "markdown",
   "id": "b5b7c7f5-505e-4a91-a499-b526d1814042",
   "metadata": {},
   "source": [
    "# Q4. Explain the difference between the union() and update() methods for a set. Give an example of each method."
   ]
  },
  {
   "cell_type": "code",
   "execution_count": 1,
   "id": "464d1913-116b-4fe5-ae24-60b93b115229",
   "metadata": {},
   "outputs": [],
   "source": [
    "# Ans4.\n",
    "\n",
    "s1= {1,2,3,4,5,6}\n",
    "s2= {5,6,7,8,9,0}"
   ]
  },
  {
   "cell_type": "code",
   "execution_count": 18,
   "id": "8858b88e-a422-4475-b5d2-f0aebc56926d",
   "metadata": {},
   "outputs": [],
   "source": [
    "# Update function helps in updating the exsisting set with the union of itself and others => \n",
    "# here result can be seen as distinct elements of (exsisting set + Union of itself and others) aplied on exsisting set on which update() fuction is applied.\n",
    "# Hence update() fuction applies changes on the exsisting set \n",
    "\n",
    "s3 = s1.update(s2)"
   ]
  },
  {
   "cell_type": "code",
   "execution_count": 8,
   "id": "cc0f0072-46b7-4ddd-950d-1ba1512d5230",
   "metadata": {},
   "outputs": [
    {
     "data": {
      "text/plain": [
       "{0, 1, 2, 3, 4, 5, 6, 7, 8, 9}"
      ]
     },
     "execution_count": 8,
     "metadata": {},
     "output_type": "execute_result"
    }
   ],
   "source": [
    "s1"
   ]
  },
  {
   "cell_type": "code",
   "execution_count": 9,
   "id": "8625e6ec-3cd1-4a63-8ed3-2602dbbdfc47",
   "metadata": {},
   "outputs": [
    {
     "data": {
      "text/plain": [
       "{0, 5, 6, 7, 8, 9}"
      ]
     },
     "execution_count": 9,
     "metadata": {},
     "output_type": "execute_result"
    }
   ],
   "source": [
    "s2"
   ]
  },
  {
   "cell_type": "code",
   "execution_count": 11,
   "id": "2e5850ed-a5f2-447e-847e-f4aaca5687e2",
   "metadata": {},
   "outputs": [],
   "source": [
    "s3"
   ]
  },
  {
   "cell_type": "code",
   "execution_count": 13,
   "id": "a4ba5e40-569f-44e4-9ef3-12b0849b4a10",
   "metadata": {},
   "outputs": [],
   "source": [
    "# union function hepls in updating the new set as union of sets \n",
    "# here result can be seen as dictinct elements between sets which goes under union() fucntion. But in this function primary sets will be remain as it is.\n",
    "\n",
    "s1= {1,2,3,4,5,6}\n",
    "s2= {5,6,7,8,9,0}\n",
    "\n",
    "s4 = s2.union(s1)"
   ]
  },
  {
   "cell_type": "code",
   "execution_count": 14,
   "id": "bd695ba9-6ab1-4bed-999c-8ef8010df4ba",
   "metadata": {},
   "outputs": [
    {
     "data": {
      "text/plain": [
       "{1, 2, 3, 4, 5, 6}"
      ]
     },
     "execution_count": 14,
     "metadata": {},
     "output_type": "execute_result"
    }
   ],
   "source": [
    "s1"
   ]
  },
  {
   "cell_type": "code",
   "execution_count": 15,
   "id": "43397415-ebe1-47e3-a158-116e51efdeed",
   "metadata": {},
   "outputs": [
    {
     "data": {
      "text/plain": [
       "{0, 5, 6, 7, 8, 9}"
      ]
     },
     "execution_count": 15,
     "metadata": {},
     "output_type": "execute_result"
    }
   ],
   "source": [
    "s2"
   ]
  },
  {
   "cell_type": "code",
   "execution_count": 16,
   "id": "ea1205fc-d178-4d19-a39c-4f00f14c3227",
   "metadata": {},
   "outputs": [
    {
     "data": {
      "text/plain": [
       "{0, 1, 2, 3, 4, 5, 6, 7, 8, 9}"
      ]
     },
     "execution_count": 16,
     "metadata": {},
     "output_type": "execute_result"
    }
   ],
   "source": [
    "s4"
   ]
  },
  {
   "cell_type": "markdown",
   "id": "e58a9def-27cb-428a-b4c3-35e27be23bb8",
   "metadata": {},
   "source": [
    "# Q5. What is a dictionary? Give an example. Also, state whether a dictionary is ordered or unordered."
   ]
  },
  {
   "cell_type": "code",
   "execution_count": 19,
   "id": "f75bbf69-3872-45e7-9562-d0ac83449440",
   "metadata": {},
   "outputs": [],
   "source": [
    "#Ans 5.\n",
    "\n",
    "#Dictionary : It store data values in Key : Value pairs. It is a collection which is ordered, changable and do not allow dublicates.\n",
    "\n",
    "d = {\"name\":\"Anand\",True:False,45:44.95,(1,2,3):(4,5,6)}"
   ]
  },
  {
   "cell_type": "code",
   "execution_count": 20,
   "id": "ce70dfde-5547-4623-8050-a685402fdf6b",
   "metadata": {},
   "outputs": [
    {
     "data": {
      "text/plain": [
       "{'name': 'Anand', True: False, 45: 44.95, (1, 2, 3): (4, 5, 6)}"
      ]
     },
     "execution_count": 20,
     "metadata": {},
     "output_type": "execute_result"
    }
   ],
   "source": [
    "d"
   ]
  },
  {
   "cell_type": "markdown",
   "id": "2d0f6b1a-47c8-4aac-a110-5354ff5ea42e",
   "metadata": {},
   "source": [
    "# Q6. Can we create a nested dictionary? If so, please give an example by creating a simple one-level nested dictionary."
   ]
  },
  {
   "cell_type": "code",
   "execution_count": 23,
   "id": "8d49c8bb-f34d-43e7-9c2b-37dd04b73db6",
   "metadata": {},
   "outputs": [],
   "source": [
    "### Ans 6 . Yes we can create nested dictionary , example given below : \n",
    "\n",
    "d1 = {\"name\":\"Anand\",True:False,45:44.95,(1,2,3):(4,5,6),\"new dict\":{\"c\":234,\"d\":567}}"
   ]
  },
  {
   "cell_type": "code",
   "execution_count": 24,
   "id": "f61eff4e-814d-43f0-9434-0996de60bb2c",
   "metadata": {},
   "outputs": [
    {
     "data": {
      "text/plain": [
       "{'c': 234, 'd': 567}"
      ]
     },
     "execution_count": 24,
     "metadata": {},
     "output_type": "execute_result"
    }
   ],
   "source": [
    "d1[\"new dict\"]"
   ]
  },
  {
   "cell_type": "markdown",
   "id": "93c54eaf-1d15-4811-a3c9-ff453e48ec39",
   "metadata": {},
   "source": [
    "# Q7. Using setdefault() method, create key named topics in the given dictionary and also add the value of the key as this list ['Python', 'Machine Learning’, 'Deep Learning'] \n",
    "## dict1 = {'language' : 'Python', 'course': 'Data Science Masters'}"
   ]
  },
  {
   "cell_type": "code",
   "execution_count": 28,
   "id": "c22d9381-1c30-403d-8e6e-4a08f4c1e398",
   "metadata": {},
   "outputs": [],
   "source": [
    "### Ans 7. \n",
    "\n",
    "dict1 = {'language':'Python','course':'Data Science Masters'}"
   ]
  },
  {
   "cell_type": "code",
   "execution_count": 29,
   "id": "ddc76e65-138f-4266-b2cc-3ee912e72645",
   "metadata": {},
   "outputs": [
    {
     "data": {
      "text/plain": [
       "['Python', 'Machine Learning', 'Deep Learning']"
      ]
     },
     "execution_count": 29,
     "metadata": {},
     "output_type": "execute_result"
    }
   ],
   "source": [
    "dict1.setdefault(\"topics\",[\"Python\",\"Machine Learning\",\"Deep Learning\"])"
   ]
  },
  {
   "cell_type": "code",
   "execution_count": 30,
   "id": "5c8d22ea-5547-43a3-a615-e324b6ef6e18",
   "metadata": {},
   "outputs": [
    {
     "data": {
      "text/plain": [
       "{'language': 'Python',\n",
       " 'course': 'Data Science Masters',\n",
       " 'topics': ['Python', 'Machine Learning', 'Deep Learning']}"
      ]
     },
     "execution_count": 30,
     "metadata": {},
     "output_type": "execute_result"
    }
   ],
   "source": [
    "dict1"
   ]
  },
  {
   "cell_type": "markdown",
   "id": "90f3dc15-4fd2-4b36-8171-6fd9d205a2b2",
   "metadata": {},
   "source": [
    "# Q8. What are the three view objects in dictionaries? Use the three in-built methods in python to display these three view objects for the given dictionary.\n",
    "## dict1 = {'Sport': 'Cricket' , 'Teams': ['India', 'Australia', 'England', 'South Africa', 'Sri Lanka', 'New Zealand']}"
   ]
  },
  {
   "cell_type": "code",
   "execution_count": 31,
   "id": "496cc698-bdbf-48e6-9f4d-b111b68b5479",
   "metadata": {},
   "outputs": [],
   "source": [
    "### Ans 8. Three view object in dictionaries are keys, values and items (i.e is the name value pair)\n",
    "\n",
    "dict1 = {'Sport': 'Cricket' , 'Teams': ['India', 'Australia', 'England', 'South Africa', 'Sri Lanka', 'New Zealand']}"
   ]
  },
  {
   "cell_type": "code",
   "execution_count": 32,
   "id": "3df8f1ec-8444-4b69-82c0-adf9a54b306e",
   "metadata": {},
   "outputs": [
    {
     "data": {
      "text/plain": [
       "dict_keys(['Sport', 'Teams'])"
      ]
     },
     "execution_count": 32,
     "metadata": {},
     "output_type": "execute_result"
    }
   ],
   "source": [
    "dict1.keys()"
   ]
  },
  {
   "cell_type": "code",
   "execution_count": 33,
   "id": "94c55a8f-b314-4439-88e3-3b4a711aa987",
   "metadata": {},
   "outputs": [
    {
     "data": {
      "text/plain": [
       "dict_values(['Cricket', ['India', 'Australia', 'England', 'South Africa', 'Sri Lanka', 'New Zealand']])"
      ]
     },
     "execution_count": 33,
     "metadata": {},
     "output_type": "execute_result"
    }
   ],
   "source": [
    "dict1.values()"
   ]
  },
  {
   "cell_type": "code",
   "execution_count": 34,
   "id": "b75e0fd0-e47c-474a-8712-cdc9e323019f",
   "metadata": {},
   "outputs": [
    {
     "data": {
      "text/plain": [
       "dict_items([('Sport', 'Cricket'), ('Teams', ['India', 'Australia', 'England', 'South Africa', 'Sri Lanka', 'New Zealand'])])"
      ]
     },
     "execution_count": 34,
     "metadata": {},
     "output_type": "execute_result"
    }
   ],
   "source": [
    "dict1.items()"
   ]
  },
  {
   "cell_type": "code",
   "execution_count": null,
   "id": "662297e3-0247-4808-8291-8f8b5b002bd1",
   "metadata": {},
   "outputs": [],
   "source": []
  }
 ],
 "metadata": {
  "kernelspec": {
   "display_name": "Python 3 (ipykernel)",
   "language": "python",
   "name": "python3"
  },
  "language_info": {
   "codemirror_mode": {
    "name": "ipython",
    "version": 3
   },
   "file_extension": ".py",
   "mimetype": "text/x-python",
   "name": "python",
   "nbconvert_exporter": "python",
   "pygments_lexer": "ipython3",
   "version": "3.10.8"
  }
 },
 "nbformat": 4,
 "nbformat_minor": 5
}
