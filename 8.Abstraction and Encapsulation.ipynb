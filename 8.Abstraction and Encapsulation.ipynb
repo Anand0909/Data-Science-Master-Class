{
 "cells": [
  {
   "cell_type": "code",
   "execution_count": 1,
   "id": "38994e90-bc5f-44d4-ad47-d0ebc46425e2",
   "metadata": {},
   "outputs": [],
   "source": [
    "# Q1. What is Abstraction in OOps? Explain with an example."
   ]
  },
  {
   "cell_type": "code",
   "execution_count": 2,
   "id": "add57814-15af-4adf-b813-39d0bb2d11b6",
   "metadata": {},
   "outputs": [],
   "source": [
    "# Solution 1 "
   ]
  },
  {
   "cell_type": "code",
   "execution_count": 1,
   "id": "d4b1f035-6210-425b-bbf6-7e5a3d102d5f",
   "metadata": {},
   "outputs": [],
   "source": [
    "# abstract is the method which allows to use same definition under different clss for different requirement, import abc is the reserved function to use abstract skeleton.\n",
    "# This method generally used when the definition is already provided at lead level then many people use the same for different purpose depends upon definitionrequirment of class"
   ]
  },
  {
   "cell_type": "code",
   "execution_count": 2,
   "id": "56e0d3b0-adad-43f4-8e65-b1bc65090296",
   "metadata": {},
   "outputs": [],
   "source": [
    "# Example :"
   ]
  },
  {
   "cell_type": "code",
   "execution_count": 8,
   "id": "e597acf9-2729-4a19-bb26-0108b84ec2b9",
   "metadata": {},
   "outputs": [],
   "source": [
    "import abc\n",
    "class cars:\n",
    "    \n",
    "    @abc.abstractmethod\n",
    "    def car_model(self):\n",
    "        pass\n",
    "    \n",
    "    @abc.abstractclassmethod\n",
    "    def car_colour(self):\n",
    "        pass"
   ]
  },
  {
   "cell_type": "code",
   "execution_count": 9,
   "id": "9d423d2d-8914-4023-96ce-42bea89474a6",
   "metadata": {},
   "outputs": [],
   "source": [
    "class tata(cars):\n",
    "    \n",
    "    def car_model(self):\n",
    "        return \"this car model is related to tata\"\n",
    "    \n",
    "    def car_colour(self):\n",
    "        return \"colour of this car is defined by tata group\""
   ]
  },
  {
   "cell_type": "code",
   "execution_count": 10,
   "id": "f916cc53-16c3-45f9-b01a-4f2b8f85cb2c",
   "metadata": {},
   "outputs": [],
   "source": [
    "class suzuki(cars):\n",
    "    \n",
    "    def car_model(self):\n",
    "        return \"this car model is related to suzuki\"\n",
    "    \n",
    "    def car_colour(self):\n",
    "        return \"colour of this car is defined by suzuki group\""
   ]
  },
  {
   "cell_type": "code",
   "execution_count": 11,
   "id": "691e1e0d-b22b-46e5-a9ec-4476d600d61a",
   "metadata": {},
   "outputs": [
    {
     "data": {
      "text/plain": [
       "'colour of this car is defined by tata group'"
      ]
     },
     "execution_count": 11,
     "metadata": {},
     "output_type": "execute_result"
    }
   ],
   "source": [
    "tata_safari = tata()\n",
    "\n",
    "tata_safari.car_colour()"
   ]
  },
  {
   "cell_type": "code",
   "execution_count": 12,
   "id": "f4950d28-da2b-423d-b545-ca0f0fc7687c",
   "metadata": {},
   "outputs": [
    {
     "data": {
      "text/plain": [
       "'this car model is related to suzuki'"
      ]
     },
     "execution_count": 12,
     "metadata": {},
     "output_type": "execute_result"
    }
   ],
   "source": [
    "suzuki_ertica = suzuki()\n",
    "\n",
    "suzuki_ertica.car_model()"
   ]
  },
  {
   "cell_type": "code",
   "execution_count": 13,
   "id": "b8bdaab0-8a0d-49b6-988f-25b1d303c986",
   "metadata": {},
   "outputs": [],
   "source": [
    "# Q2. Differentiate between Abstraction and Encapsulation. Explain with an example."
   ]
  },
  {
   "cell_type": "code",
   "execution_count": 14,
   "id": "476a0361-a9af-4ea3-a93a-1c6253c77261",
   "metadata": {},
   "outputs": [],
   "source": [
    "# Solution 2 : "
   ]
  },
  {
   "cell_type": "code",
   "execution_count": 2,
   "id": "cb3c0f07-c33a-4af6-a3c7-45e701b11b9e",
   "metadata": {},
   "outputs": [],
   "source": [
    "# Abstraction is the method which increase the code radbilitty nand it gives the skeleton for the complete code structure \n",
    "# Encapsulation is the method which prevent users to change the orginal value which is provided inside the code and allow for limited access as and when required"
   ]
  },
  {
   "cell_type": "code",
   "execution_count": 3,
   "id": "184f6ea2-98dd-405b-ba2c-cd16b3d18fa1",
   "metadata": {},
   "outputs": [],
   "source": [
    "# Abstraction focuses on simplifying complex systems by modeling essential features, while encapsulation involves bundling data and methods into a single unit to hide the \n",
    "# internal details and control access. Together, these concepts contribute to creating modular, maintainable, and scalable software systems"
   ]
  },
  {
   "cell_type": "code",
   "execution_count": 1,
   "id": "f2cb4236-e743-44be-9756-5a90d4d7c4e0",
   "metadata": {},
   "outputs": [],
   "source": [
    "# Example :"
   ]
  },
  {
   "cell_type": "code",
   "execution_count": 5,
   "id": "3dbd22b1-5f3b-4330-becd-df96d0aa311f",
   "metadata": {},
   "outputs": [],
   "source": [
    "#Abstraction : \n",
    "import abc\n",
    "class bank:\n",
    "    \n",
    "    @abc.abstractmethod\n",
    "    def balance(self):\n",
    "        pass\n",
    "    \n",
    "    @abc.abstractmethod\n",
    "    def withdraw(self):\n",
    "        pass\n",
    "    \n",
    "    @abc.abstractmethod\n",
    "    def deposit(self):\n",
    "        pass"
   ]
  },
  {
   "cell_type": "code",
   "execution_count": 31,
   "id": "963689ac-54c8-4a25-ae30-37cc956d246c",
   "metadata": {},
   "outputs": [],
   "source": [
    "#Abstraction + Encapsulation :\n",
    "\n",
    "class bank_account(bank):\n",
    "\n",
    "# Encapsulation -  restricting user to directly change the input value :   \n",
    "    def __init__(self,balance):\n",
    "        self.__balance = balance\n",
    "        \n",
    "    def deposit(self,amount):\n",
    "        self.__balance = self.__balance+amount\n",
    "        \n",
    "    def withdraw(self,amount):\n",
    "        if self.__balance > amount:\n",
    "            self.__balance = self.__balance-amount\n",
    "            return True\n",
    "        else:\n",
    "            False\n",
    "    \n",
    "\n",
    "# Encapsulatio - Allowing user acces for given part :\n",
    "    def get_balance(self):\n",
    "        return self.__balance\n"
   ]
  },
  {
   "cell_type": "code",
   "execution_count": 32,
   "id": "02be6f45-8f9f-4266-becb-2e96bfed0bbd",
   "metadata": {},
   "outputs": [],
   "source": [
    "anand = bank_account(1000)"
   ]
  },
  {
   "cell_type": "code",
   "execution_count": 33,
   "id": "af874f0b-67fa-4122-8cc5-e15e8e740013",
   "metadata": {},
   "outputs": [],
   "source": [
    "anand.deposit(400000)"
   ]
  },
  {
   "cell_type": "code",
   "execution_count": 34,
   "id": "5905bac8-0d64-4fdc-9a12-165dabb7658f",
   "metadata": {},
   "outputs": [
    {
     "data": {
      "text/plain": [
       "True"
      ]
     },
     "execution_count": 34,
     "metadata": {},
     "output_type": "execute_result"
    }
   ],
   "source": [
    "anand.withdraw(100)"
   ]
  },
  {
   "cell_type": "code",
   "execution_count": 35,
   "id": "3a130f01-713c-4b07-a080-16be9bcf9758",
   "metadata": {},
   "outputs": [],
   "source": [
    "anand.deposit(3100)"
   ]
  },
  {
   "cell_type": "code",
   "execution_count": 36,
   "id": "245c84a2-1573-419e-9f00-e224bc4ffbac",
   "metadata": {},
   "outputs": [
    {
     "data": {
      "text/plain": [
       "404000"
      ]
     },
     "execution_count": 36,
     "metadata": {},
     "output_type": "execute_result"
    }
   ],
   "source": [
    "anand.get_balance()"
   ]
  },
  {
   "cell_type": "code",
   "execution_count": 37,
   "id": "2accf792-1a60-4654-b3a1-30cb5663d0e4",
   "metadata": {},
   "outputs": [],
   "source": [
    "#Q3. What is abc module in python? Why is it used?"
   ]
  },
  {
   "cell_type": "code",
   "execution_count": 1,
   "id": "d16e95bc-9ace-4cd9-acd5-91a195502912",
   "metadata": {},
   "outputs": [],
   "source": [
    "# Solution : \n",
    "\n",
    "# The abc module in Python empowers to define Abstract Base Classes (ABCs). \n",
    "# Think of ABCs as blueprints for other classes, outlining the mandatory methods they must possess without dictating their implementation. \n",
    "\n",
    "#This approach offers several benefits:\n",
    "\n",
    "# Enforces Contracts: ABCs establish a clear interface for subclasses, they provide specific functionalities. This fosters code consistency and simplifies maintenance.\n",
    "\n",
    "# Prevents Unintended Instantiation: You cannot directly create objects from ABCs themselves. This helps represent concepts that lack direct, concrete implementations.\n",
    "\n",
    "# Enhanced Type Safety: By incorporating ABCs into type hints, you improve code clarity and enable static type checking, catching potential errors early on.\n",
    "\n",
    "# Polymorphism Made Easy: ABCs facilitate polymorphism, allowing you to write code that interacts with diverse subclasses irrespective of their specific types at runtime. \n",
    "\n",
    "# This promotes code flexibility and reusability.\n",
    "\n",
    "# Design Pattern Champion: ABCs play a crucial role in implementing various design patterns, such as Template Method and Strategy, leads to well-structured and adaptable object-oriented systems.\n",
    "\n",
    "# In essence, the abc module equips you with the tools to create robust and versatile class hierarchies in Python, \n",
    "#enhancing code organization, maintainability, and overall quality."
   ]
  },
  {
   "cell_type": "code",
   "execution_count": 2,
   "id": "9c7f9601-8c34-4a96-87ba-c500e425c2c3",
   "metadata": {},
   "outputs": [],
   "source": [
    "# Q4. How can we achieve data abstraction?"
   ]
  },
  {
   "cell_type": "code",
   "execution_count": 4,
   "id": "2ddc2446-6692-43ae-bbc1-2f856ff92f0e",
   "metadata": {},
   "outputs": [],
   "source": [
    "# Data abstraction is a programming concept that allows to create user-defined data types with specific operations without exposing the underlying implementation details. \n",
    "# This means that we can focus on what the data represents and how it behaves, rather than how it is stored and manipulated.\n",
    "\n",
    "# In Python, we can achieve data abstraction using abstract base classes (ABCs) and interfaces. ABCs are classes that define the required methods for a particular data type,\n",
    "# but do not provide any implementation. Interfaces are similar to ABCs, but they are not classes themselves.\n",
    "# They are simply collections of method signatures that define the expected behavior of a data type."
   ]
  },
  {
   "cell_type": "code",
   "execution_count": 6,
   "id": "d395358f-3e63-401f-afa8-985f0c0e4e36",
   "metadata": {},
   "outputs": [
    {
     "name": "stdout",
     "output_type": "stream",
     "text": [
      "The area of the shape is 78.53975\n",
      "The area of the shape is 16\n"
     ]
    }
   ],
   "source": [
    "# Example : \n",
    "\n",
    "import abc\n",
    "\n",
    "class Shape:\n",
    "    \n",
    "    @abc.abstractmethod\n",
    "    def calculate_area(self):\n",
    "        pass\n",
    "\n",
    "class Circle(Shape):\n",
    "    def __init__(self, radius):\n",
    "        self.radius = radius\n",
    "\n",
    "    def calculate_area(self):\n",
    "        return 3.14159 * self.radius**2\n",
    "\n",
    "class Square(Shape):\n",
    "    def __init__(self, side):\n",
    "        self.side = side\n",
    "\n",
    "    def calculate_area(self):\n",
    "        return self.side**2\n",
    "\n",
    "def process_shape(shape: Shape):\n",
    "    area = shape.calculate_area()\n",
    "    print(f\"The area of the shape is {area}\")\n",
    "\n",
    "circle = Circle(5)\n",
    "square = Square(4)\n",
    "\n",
    "process_shape(circle)  \n",
    "process_shape(square)  "
   ]
  },
  {
   "cell_type": "code",
   "execution_count": 7,
   "id": "c7e367d6-ec34-4b29-b5ee-3acfd8ba11e7",
   "metadata": {},
   "outputs": [],
   "source": [
    "# Q5. Can we create an instance of an abstract class? Explain your answer."
   ]
  },
  {
   "cell_type": "code",
   "execution_count": 8,
   "id": "c8ae4dbd-1e3f-44c6-a2e4-19a76eb9210a",
   "metadata": {},
   "outputs": [],
   "source": [
    "# Solution\n",
    "\n",
    "# No, we cannot directly create an instance (object) of an abstract class. Here's why:\n",
    "\n",
    "# Purpose of Abstract Classes:\n",
    "\n",
    "# They serve as blueprints or templates for concrete subclasses.\n",
    "# They define a common interface (set of methods) that subclasses must implement.\n",
    "# They enforce structural consistency across related classes.\n",
    "# They prevent incomplete objects from being created.\n",
    "# Key Reasons for Non-Instanciability:\n",
    "\n",
    "# Abstract Methods: Abstract classes often contain abstract methods, which have no implementation in the base class. \n",
    "# These methods must be implemented in concrete subclasses to provide meaningful functionality. \n",
    "# Creating an instance of an abstract class without these implementations would lead to errors.\n",
    "\n",
    "# Enforcing Design Structure: Preventing direct instantiation ensures that developers create subclasses that adhere to the defined interface and provide concrete\n",
    "# implementations for the required methods. This promotes code consistency, maintainability, and extensibility.\n",
    "\n",
    "# Representing Ideas, Not Concrete Entities: Abstract classes often model concepts or ideas that don't have a tangible form on their own. \n",
    "# They require subclasses to provide specific implementations to represent real-world objects or behaviors."
   ]
  },
  {
   "cell_type": "code",
   "execution_count": null,
   "id": "dabb4fa7-4a14-4aaa-92e6-2dbf55f79058",
   "metadata": {},
   "outputs": [],
   "source": []
  }
 ],
 "metadata": {
  "kernelspec": {
   "display_name": "Python 3 (ipykernel)",
   "language": "python",
   "name": "python3"
  },
  "language_info": {
   "codemirror_mode": {
    "name": "ipython",
    "version": 3
   },
   "file_extension": ".py",
   "mimetype": "text/x-python",
   "name": "python",
   "nbconvert_exporter": "python",
   "pygments_lexer": "ipython3",
   "version": "3.10.8"
  }
 },
 "nbformat": 4,
 "nbformat_minor": 5
}
