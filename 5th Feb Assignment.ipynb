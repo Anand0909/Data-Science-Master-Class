{
 "cells": [
  {
   "cell_type": "markdown",
   "id": "36a55b3a-0fb9-4af0-94fc-2b90743c56d7",
   "metadata": {},
   "source": [
    "# Q1. Explain Class and Object with respect to Object-Oriented Programming. Give a suitable example."
   ]
  },
  {
   "cell_type": "code",
   "execution_count": 2,
   "id": "c9eefc64-231e-45ed-89b0-bfa7e3446ec0",
   "metadata": {},
   "outputs": [],
   "source": [
    "# Ans1 : In object-oriented programming (OOP), a class is a blueprint or a template that defines the attributes and behavior of a type of object. \n",
    "# An object on the other hand, is an instance of a class that has specific values assigned to its attributes.\n",
    "\n",
    "# Example : A Car class might have things like \"make\" and \"color\" in its template, and the objects made from this class will all be cars that can start, stop, \n",
    "# accelerate and brake, but they will have different makes and colors. This makes it easy to make lots of similar objects with the same abilities but different qualities. \n"
   ]
  },
  {
   "cell_type": "markdown",
   "id": "59fd05ed-c163-4f04-a10b-56c013bd8332",
   "metadata": {},
   "source": [
    "# Q2. Name the four pillars of OOPs."
   ]
  },
  {
   "cell_type": "code",
   "execution_count": 3,
   "id": "78a82023-d7ab-4f8b-b08e-1535bfe2de68",
   "metadata": {},
   "outputs": [],
   "source": [
    "# Ans 2 : The four pillars of object-oriented programming (OOP) are:-\n",
    "\n",
    "# Encapsulation: the process of hiding internal implementation details and providing a public interface to interact with the object.\n",
    "# Inheritance: the ability to create a new class from an existing class, inheriting its attributes and methods, and adding new ones.\n",
    "# Polymorphism: the ability of objects of different classes to be treated as if they are of the same class, enabling flexibility and extensibility in code.\n",
    "# Abstraction: the process of identifying the essential features of an object and ignoring the non-essential ones, simplifying the representation of complex systems."
   ]
  },
  {
   "cell_type": "markdown",
   "id": "ebc7b7d0-750e-4847-b433-1600efc9ba2d",
   "metadata": {},
   "source": [
    "# Q3. Explain why the __init__() function is used. Give a suitable example."
   ]
  },
  {
   "cell_type": "code",
   "execution_count": 7,
   "id": "455b6abe-3175-4853-8115-e3ed21897e76",
   "metadata": {},
   "outputs": [],
   "source": [
    "\n",
    "# Ans 3 : In object-oriented programming, the __init__() function is a special method used to initialize the attributes of an object when it is created. \n",
    "# The __init__() function is called automatically when the object is instantiated from the class.The __init__() function is used to set default values for object attributes,\n",
    "# or to accept values provided by the user during object creation. This helps to ensure that the object is created with all the necessary attributes, \n",
    "# and that those attributes have valid values\n"
   ]
  },
  {
   "cell_type": "code",
   "execution_count": 24,
   "id": "17385a99-ebdd-4745-87e5-19846c14e326",
   "metadata": {},
   "outputs": [],
   "source": [
    "# Example : \n",
    "\n",
    "class Person :\n",
    "    def __init__(self,name,age):\n",
    "        self.name = name\n",
    "        self.age = age\n",
    "        \n",
    "    def Welcome(self):\n",
    "        print(\"Hi\",self.name, \"I am Anand and I heard your are\", self.age, \"years old, here you'r most welcome in our city.\")"
   ]
  },
  {
   "cell_type": "code",
   "execution_count": 25,
   "id": "d89fc9ea-5544-4e7d-9480-d5f9c1871d60",
   "metadata": {},
   "outputs": [],
   "source": [
    "Rohan = Person (\"Rohan\",31)"
   ]
  },
  {
   "cell_type": "code",
   "execution_count": 26,
   "id": "48ba5dd3-a83f-43c0-9549-b7be799e7ffe",
   "metadata": {},
   "outputs": [
    {
     "name": "stdout",
     "output_type": "stream",
     "text": [
      "Hi Rohan I am Anand and I heard your are 31 years old, here you'r most welcome in our city.\n"
     ]
    }
   ],
   "source": [
    "Rohan.Welcome()"
   ]
  },
  {
   "cell_type": "markdown",
   "id": "7120f36c-0a3f-4914-9bdb-7b288f5d9c53",
   "metadata": {},
   "source": [
    "# Q4. Why self is used in OOPs?"
   ]
  },
  {
   "cell_type": "code",
   "execution_count": 28,
   "id": "1bf6434c-3728-4003-a01a-97d2bf4187b2",
   "metadata": {},
   "outputs": [],
   "source": [
    "# Ans 4 : In object-oriented programming (OOP), self is a special keyword that is used to refer to the current instance of a class. \n",
    "# It is typically the first parameter of instance methods in Python.\n",
    "# The self keyword is used to access the attributes and methods of an object from within the class. \n",
    "# When you create an instance of a class, you are creating a unique object with its own set of attributes and methods. \n",
    "# The self keyword is used to reference those attributes and methods for that specific instance."
   ]
  },
  {
   "cell_type": "markdown",
   "id": "ce9479e0-3220-4021-ace0-cae9856695e0",
   "metadata": {},
   "source": [
    "# Q5. What is inheritance? Give an example for each type of inheritance."
   ]
  },
  {
   "cell_type": "code",
   "execution_count": 30,
   "id": "71687738-4fba-4707-8b75-52c712383c65",
   "metadata": {},
   "outputs": [],
   "source": [
    "# Ans 5 : \n",
    "\n",
    "# Inheritance is a fundamental object-oriented programming concept that allows a new class to be based on an existing class, thereby inheriting its properties and behaviors.\n",
    "# The existing class is referred to as the parent or superclass, and the new class is referred to as the child or subclass.\n",
    "# There are four types of inheritance in object-oriented programming:\n",
    "\n",
    "# Single inheritance: In single inheritance, a child class inherits properties and behaviors from a single parent class.\n",
    "# For example, consider a class hierarchy where \"Vehicle\" is the parent class, and \"Car\" is the child class. In this case, \n",
    "# the Car class inherits properties and behaviors from the Vehicle class.\n",
    "\n",
    "# Multiple inheritance: In multiple inheritance, a child class inherits properties and behaviors from multiple parent classes. \n",
    "# For example, consider a class hierarchy where \"Animal\" and \"Machine\" are two parent classes, and \"Robot\" is the child class. \n",
    "# In this case, the Robot class inherits properties and behaviors from both the Animal and Machine classes.\n",
    "\n",
    "# Multi-level inheritance: In multi-level inheritance, a child class inherits properties and behaviors from a parent class,\n",
    "# which in turn inherits properties and behaviors from its own parent class. \n",
    "# For example, consider a class hierarchy where \"Animal\" is the parent class, \"Mammal\" is the child class, and \"Dog\" is the grandchild class. \n",
    "# In this case, the Dog class inherits properties and behaviors from both the Animal and Mammal classes.\n",
    "\n",
    "# Hierarchical inheritance: In hierarchical inheritance, multiple child classes inherit properties and behaviors from a single parent class. \n",
    "# For example, consider a class hierarchy where \"Shape\" is the parent class, and \"Square\" and \"Rectangle\" are child classes. \n",
    "# In this case, both the Square and Rectangle classes inherit properties and behaviors from the Shape class.\n",
    "\n",
    "# Overall, inheritance is a powerful concept that allows for code reuse and promotes modular, extensible code design. \"\"\""
   ]
  },
  {
   "cell_type": "code",
   "execution_count": null,
   "id": "e38e513e-3438-4239-90cb-6235514d644d",
   "metadata": {},
   "outputs": [],
   "source": []
  }
 ],
 "metadata": {
  "kernelspec": {
   "display_name": "Python 3 (ipykernel)",
   "language": "python",
   "name": "python3"
  },
  "language_info": {
   "codemirror_mode": {
    "name": "ipython",
    "version": 3
   },
   "file_extension": ".py",
   "mimetype": "text/x-python",
   "name": "python",
   "nbconvert_exporter": "python",
   "pygments_lexer": "ipython3",
   "version": "3.10.8"
  }
 },
 "nbformat": 4,
 "nbformat_minor": 5
}
