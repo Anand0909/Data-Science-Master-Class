{
 "cells": [
  {
   "cell_type": "code",
   "execution_count": null,
   "id": "145d060a-30c6-4295-83a1-14a20d4556dc",
   "metadata": {},
   "outputs": [],
   "source": [
    "# Q1. Explain Class and Object with respect to Object-Oriented Programming. Give a suitable example."
   ]
  },
  {
   "cell_type": "code",
   "execution_count": 1,
   "id": "808f30ec-b608-44c5-8b58-c233ecd01ed7",
   "metadata": {},
   "outputs": [],
   "source": [
    "# Solution 1 : \n",
    "\n",
    "# class stands for classification or realization, and Object stands for variable and real world entity\n",
    "# class use to be created to provide all the module in a grouping that will help in creation of frontend/backend etc - It gives structure so that changes can be done in future\n",
    "# it helps in reusability of code.\n",
    "\n",
    "class group:\n",
    "    \n",
    "    def __init__(self, name1, name2, name3):\n",
    "        self.name1 = name1\n",
    "        self.name2 = name2\n",
    "        self.name3 = name3\n",
    "    \n",
    "    def return_name(self):\n",
    "        return self.name1, self.name2, self.name3\n",
    " \n",
    "    "
   ]
  },
  {
   "cell_type": "code",
   "execution_count": 3,
   "id": "59de32ba-b90f-4e36-999b-f1462476dfe1",
   "metadata": {},
   "outputs": [],
   "source": [
    "class_8 = group(\"anand\",\"gaurav\",\"avinash\")"
   ]
  },
  {
   "cell_type": "code",
   "execution_count": 4,
   "id": "a6c43de8-3354-4c78-b43f-07882696948e",
   "metadata": {},
   "outputs": [
    {
     "data": {
      "text/plain": [
       "('anand', 'gaurav', 'avinash')"
      ]
     },
     "execution_count": 4,
     "metadata": {},
     "output_type": "execute_result"
    }
   ],
   "source": [
    "class_8.return_name()"
   ]
  },
  {
   "cell_type": "code",
   "execution_count": null,
   "id": "d85ed7e3-ca80-4fc9-88d4-3e419f610f16",
   "metadata": {},
   "outputs": [],
   "source": [
    "# Q2.Name the four pillars of OOPs."
   ]
  },
  {
   "cell_type": "code",
   "execution_count": null,
   "id": "b790a4f5-a8d3-4f9e-869d-fc1c0bdfbee9",
   "metadata": {},
   "outputs": [],
   "source": [
    "# Solution 2:\n",
    "\n",
    "\n",
    "# Encapsulation: Encapsulation is the bundling of data (attributes) and the methods (functions) that operate on the data into a single unit known as a class. \n",
    "#                It restricts access to some of the object's components and prevents the accidental modification of data.\n",
    "\n",
    "# Inheritance: Inheritance is a mechanism by which a new class can inherit properties and behaviors from an existing class. \n",
    "#              It promotes code reuse and establishes a relationship between classes, with one class inheriting from another.\n",
    "\n",
    "# Polymorphism: Polymorphism means \"many forms.\" It allows objects of different types to be treated as objects of a common type. \n",
    "#               Polymorphism can be achieved through method overloading and method overriding, enabling flexibility and adaptability in code.\n",
    "\n",
    "# Abstraction: Abstraction is the concept of hiding the complex implementation details and showing only the essential features of an object. \n",
    "#              It allows you to focus on what an object does rather than how it achieves its functionality. \n",
    "#              Abstraction is often implemented through abstract classes and interfaces."
   ]
  },
  {
   "cell_type": "code",
   "execution_count": null,
   "id": "d34f8162-13a7-418f-a270-781b6550aff3",
   "metadata": {},
   "outputs": [],
   "source": [
    "# Q3. Explain why the __init__() function is used. Give a suitable example."
   ]
  },
  {
   "cell_type": "code",
   "execution_count": 11,
   "id": "04daf65b-2b1e-4a9f-b7e2-e8dfd2604fc6",
   "metadata": {},
   "outputs": [],
   "source": [
    "# Solution 3:\n",
    "\n",
    "# __init__() function is used for storing data inside the given class for defined varibale/ object\n",
    "\n",
    "# ex : \n",
    "\n",
    "class test2:\n",
    "    \n",
    "    def __init__(self, name):\n",
    "        self.name = name \n",
    "        \n",
    "    def welcome(self):\n",
    "        return self.name, \"welcome to you\"\n",
    "  "
   ]
  },
  {
   "cell_type": "code",
   "execution_count": 12,
   "id": "c75ca5a1-2ad5-4ff9-a7ab-452f474d870a",
   "metadata": {},
   "outputs": [],
   "source": [
    "name = test2(\"Anand\")"
   ]
  },
  {
   "cell_type": "code",
   "execution_count": 13,
   "id": "0de82f65-74a2-4422-ac79-a21ddc1c8844",
   "metadata": {},
   "outputs": [
    {
     "data": {
      "text/plain": [
       "('Anand', 'welcome to you')"
      ]
     },
     "execution_count": 13,
     "metadata": {},
     "output_type": "execute_result"
    }
   ],
   "source": [
    "name.welcome()"
   ]
  },
  {
   "cell_type": "code",
   "execution_count": null,
   "id": "782c85aa-262c-4ff2-8532-0164e10bcba0",
   "metadata": {},
   "outputs": [],
   "source": [
    "# Q4. Why self is used in OOPs?"
   ]
  },
  {
   "cell_type": "code",
   "execution_count": null,
   "id": "501a5c3d-5890-493a-afe7-ad8a87478ed0",
   "metadata": {},
   "outputs": [],
   "source": [
    "# In Python, self is used in object-oriented programming to represent the instance of the class. It serves as a reference to the object on which a method is called, \n",
    "# enabling access to instance-specific attributes and ensuring clarity in method invocation."
   ]
  },
  {
   "cell_type": "code",
   "execution_count": null,
   "id": "7a3d7baa-1735-471d-a1fc-b2468a77303d",
   "metadata": {},
   "outputs": [],
   "source": [
    "# Q5. What is inheritance? Give an example for each type of inheritance."
   ]
  },
  {
   "cell_type": "code",
   "execution_count": 16,
   "id": "4c1e6852-162f-4eff-bd7d-8fca920dcc21",
   "metadata": {},
   "outputs": [],
   "source": [
    "# Inheritance is a fundamental concept in object-oriented programming (OOP) where a new class, called the subclass or derived class, \n",
    "# inherits attributes and behaviors from an existing class, known as the superclass or base class. \n",
    "# This allows the subclass to reuse and extend the functionality of the superclass.\n",
    "\n",
    "\n",
    "# Single Inheritance:\n",
    "\n",
    "# Explanation: In single inheritance, a class inherits from only one superclass.\n",
    "# Example:\n",
    "\n",
    "class Animal:\n",
    "    def speak(self):\n",
    "        print(\"Animal speaks\")\n",
    "\n",
    "class Dog(Animal):\n",
    "    def bark(self):\n",
    "        print(\"Dog barks\")\n",
    "\n",
    "# Dog inherits from Animal\n"
   ]
  },
  {
   "cell_type": "code",
   "execution_count": 17,
   "id": "b75b04dd-73e4-43f3-90df-ec8241e4b9a9",
   "metadata": {},
   "outputs": [],
   "source": [
    "# Multiple Inheritance:\n",
    "\n",
    "# Explanation: In multiple inheritance, a class can inherit from more than one superclass.\n",
    "# Example:\n",
    "\n",
    "\n",
    "class A:\n",
    "    def method_A(self):\n",
    "        print(\"Method A\")\n",
    "\n",
    "class B:\n",
    "    def method_B(self):\n",
    "        print(\"Method B\")\n",
    "\n",
    "class C(A, B):\n",
    "    def method_C(self):\n",
    "        print(\"Method C\")\n",
    "\n",
    "# C inherits from both A and B\n"
   ]
  },
  {
   "cell_type": "code",
   "execution_count": 18,
   "id": "da2b8a17-04c0-488f-85ec-e119d7d101d6",
   "metadata": {},
   "outputs": [],
   "source": [
    "# Multilevel Inheritance:\n",
    "\n",
    "# Explanation: In multilevel inheritance, a class is derived from a class, which is itself derived from another class.\n",
    "# Example:\n",
    "\n",
    "\n",
    "class Vehicle:\n",
    "    def start(self):\n",
    "        print(\"Vehicle starts\")\n",
    "\n",
    "class Car(Vehicle):\n",
    "    def drive(self):\n",
    "        print(\"Car drives\")\n",
    "\n",
    "class Sedan(Car):\n",
    "    def features(self):\n",
    "        print(\"Sedan has advanced features\")\n",
    "\n",
    "# Sedan inherits from both Car and Vehicle\n",
    "\n"
   ]
  },
  {
   "cell_type": "code",
   "execution_count": null,
   "id": "8f9aee2c-0ba7-4634-858b-1bbb310ba1fa",
   "metadata": {},
   "outputs": [],
   "source": []
  }
 ],
 "metadata": {
  "kernelspec": {
   "display_name": "Python 3 (ipykernel)",
   "language": "python",
   "name": "python3"
  },
  "language_info": {
   "codemirror_mode": {
    "name": "ipython",
    "version": 3
   },
   "file_extension": ".py",
   "mimetype": "text/x-python",
   "name": "python",
   "nbconvert_exporter": "python",
   "pygments_lexer": "ipython3",
   "version": "3.10.8"
  }
 },
 "nbformat": 4,
 "nbformat_minor": 5
}
