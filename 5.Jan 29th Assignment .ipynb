{
 "cells": [
  {
   "cell_type": "raw",
   "id": "cba354a3-f512-4965-8cb3-d2fd3a3f1a0e",
   "metadata": {},
   "source": [
    "Solution 1: Person who developed Python programming language => Guido van Rossum"
   ]
  },
  {
   "cell_type": "raw",
   "id": "31afc9eb-f86f-4709-8f0f-0c1be89a149f",
   "metadata": {},
   "source": [
    "Solution 2: Type of programming does python support : \n",
    "\n",
    "1.Imperative Programming\n",
    "2.Object-Oriented Programming (OOP)\n",
    "3.Functional Programming\n",
    "4.Procedural Programming\n",
    "5.Reflective Programming\n",
    "6.Scripting\n",
    "7.Dynamic Typing\n",
    "8.Cross-platform Development\n"
   ]
  },
  {
   "cell_type": "raw",
   "id": "48817e01-5203-4ed0-aa83-d85590120316",
   "metadata": {},
   "source": [
    "Solution 3: Is python case sensitive when dealing with identifier ?\n",
    "\n",
    " - Yes Python is case sensitive"
   ]
  },
  {
   "cell_type": "raw",
   "id": "615a55aa-0199-4cd8-b51a-98fdff3433cf",
   "metadata": {},
   "source": [
    "Solution 4: Correct extention of Python file => .py"
   ]
  },
  {
   "cell_type": "raw",
   "id": "547a6773-5291-4535-850f-53baf0cb64b1",
   "metadata": {},
   "source": [
    "Solution 5: Is python code is interpreted or compiled ? => Python is both interpreted and compiled.\n",
    "Python code is first compiled to bytecode, and then the bytecode is interpreted by the Python interpreter."
   ]
  },
  {
   "cell_type": "code",
   "execution_count": 3,
   "id": "0d321989-5976-4f70-885e-449ee2c8ab69",
   "metadata": {},
   "outputs": [],
   "source": [
    "# Q6. name of few blocks of code used to define in python language ?"
   ]
  },
  {
   "cell_type": "raw",
   "id": "2bef044a-f79f-4711-8701-55ca2490d92d",
   "metadata": {},
   "source": [
    "# Solution 6 : \n",
    "\n",
    "# In Python, blocks of code are defined by indentation. \n",
    "# Unlike many other programming languages that use braces {} to delimit blocks, Python uses indentation to indicate the grouping of statements. \n",
    "# Here are a few examples of code blocks in Python:\n",
    "\n",
    "1. Function Definition \n",
    "2. Conditional Statement (if, else, elif etc)\n",
    "3. Loops (for, while)\n",
    "4. class definition \n",
    "5. Exception Handeling (try, except, finally)"
   ]
  },
  {
   "cell_type": "code",
   "execution_count": 4,
   "id": "f21defd6-2c9a-4a7a-b541-afd03fbf7c73",
   "metadata": {},
   "outputs": [],
   "source": [
    "# Q7. state a character used to give single line comments in python"
   ]
  },
  {
   "cell_type": "code",
   "execution_count": 5,
   "id": "af47a3ee-0437-49dd-b766-87501da64a10",
   "metadata": {},
   "outputs": [
    {
     "name": "stdout",
     "output_type": "stream",
     "text": [
      "Hi everyone, hope you are doing well\n"
     ]
    }
   ],
   "source": [
    "#Solution 7 :\n",
    "    \n",
    "print(\"Hi everyone, hope you are doing well\")"
   ]
  },
  {
   "cell_type": "code",
   "execution_count": 6,
   "id": "2287cd2c-803c-4059-afb6-88b2317eee06",
   "metadata": {},
   "outputs": [
    {
     "name": "stdout",
     "output_type": "stream",
     "text": [
      "Python Version:\n",
      "3.10.8 | packaged by conda-forge | (main, Nov 22 2022, 08:26:04) [GCC 10.4.0]\n"
     ]
    }
   ],
   "source": [
    "# Solution 8 : function which can help us to know version of python on which we are currently working \n",
    "\n",
    "import sys\n",
    "\n",
    "print(\"Python Version:\")\n",
    "print(sys.version)\n"
   ]
  },
  {
   "cell_type": "raw",
   "id": "9924e7c2-9b3a-4bdf-a47b-05b67740f8df",
   "metadata": {},
   "source": [
    "\n",
    "Solution 9 : Python supports creation of annonymous function at runtime using a construct called lambda.\n"
   ]
  },
  {
   "cell_type": "raw",
   "id": "8238f1dc-37b3-44e4-bd4d-4d455c891c7c",
   "metadata": {},
   "source": [
    "\n",
    "Solution 10:  Pip is the package installer for Python and is widely used for downloading and installing Python packages from the Python Package Index (PyPI).\n",
    "\n",
    "Pip stands for => \"pip installs packages\" or \"pip installs python\"\n"
   ]
  },
  {
   "cell_type": "raw",
   "id": "0cddc11c-b4d0-4e12-a2f9-a346af667bd3",
   "metadata": {},
   "source": [
    "\n",
    "Solution 11: Built in function in python =>\n",
    "\n",
    "1. type()\n",
    "2. print()\n",
    "3. yield()\n",
    "4. len()\n",
    "5. input()\n",
    "    \n",
    "  "
   ]
  },
  {
   "cell_type": "raw",
   "id": "6905eec6-6b99-49d6-ab04-f192998e92f4",
   "metadata": {},
   "source": [
    "\n",
    "Solution 12: maximum possible length of an identifire in python => \n",
    "PEP 8, the style guide for Python code, recommends limiting all lines to a maximum of 79 characters for code and 72 for docstrings.\n",
    "But there is no strict limit provided by Python \n"
   ]
  },
  {
   "cell_type": "raw",
   "id": "7bad0a3a-6274-46a3-8a00-62f7a6bf961f",
   "metadata": {},
   "source": [
    "\n",
    "Solutio 13: Benefits of using python =>\n",
    "\n",
    "1.Readability and Simplicity\n",
    "2.Extensive Libraries and Frameworks\n",
    "3.Community Support\n",
    "4.Cross-Platform Compatibility\n",
    "5.Versatility\n",
    "6.Productivity and Rapid Development\n",
    "7.Dynamically Typed and Interpreted\n",
    "8.Open Source and Free\n",
    "9.Large Standard Library\n",
    "10.Strong Integration Capabilities\n"
   ]
  },
  {
   "cell_type": "raw",
   "id": "ccdb1f34-f13b-4077-955a-1da664c055f0",
   "metadata": {},
   "source": [
    "\n",
    "Solution 14: Memory management in Python =>\n",
    "\n",
    "Python interpreter manages memory automatically using reference counting and a garbage collector. \n",
    "Reference counting keeps track of how many times an object is referenced, and when the count drops to zero, the memory is freed. \n",
    "The garbage collector identifies and cleans up cyclic references to prevent memory leaks.\n",
    "Python also uses memory pools, optimizations, and tools like the gc module for efficient memory management, simplifying the process for developers.\n"
   ]
  },
  {
   "cell_type": "raw",
   "id": "2b922f1e-0019-4ef3-93ea-e5c82d012e2c",
   "metadata": {},
   "source": [
    "\n",
    "Solution 15: how to install pyton on windows and set path variables =>\n",
    "\n",
    "1.Download Python: Visit the official Python website and download the latest version of Python for Windows.\n",
    "\n",
    "2.Run Installer: Open the downloaded installer and follow the installation prompts.\n",
    "\n",
    "3.Check \"Add Python to PATH\": In the installer, make sure to check the box that says \"Add Python to PATH\" during the installation.\n",
    "\n",
    "\n",
    "Open System Properties:\n",
    "\n",
    "4.Right-click on \"This PC\" or \"Computer\" on your desktop or in File Explorer.\n",
    "  Select \"Properties.\"\n",
    "5.Open Advanced System Settings:\n",
    "  Click on \"Advanced system settings\" on the left.\n",
    "  Click on \"Environment Variables\":\n",
    "\n",
    "6.In the System Properties window, click on the \"Environment Variables...\" button.\n",
    "  Edit System Variables:\n",
    "\n",
    "7.Under the \"System variables\" section, find and select the \"Path\" variable.\n",
    "  Click \"Edit...\"\n",
    "\n",
    "8.Add Python Path: path of python in you pc\n",
    "\n",
    "9.Click \"OK\" to close each window.\n"
   ]
  },
  {
   "cell_type": "raw",
   "id": "eeca5a9e-0a89-440a-a1b0-d0d8ee9b3ac8",
   "metadata": {},
   "source": [
    "\n",
    "Solution 16: Yes, indentation is required in python.\n"
   ]
  },
  {
   "cell_type": "code",
   "execution_count": null,
   "id": "8fe93903-aed5-49db-84c2-f9d6f2f60b2e",
   "metadata": {},
   "outputs": [],
   "source": []
  }
 ],
 "metadata": {
  "kernelspec": {
   "display_name": "Python 3 (ipykernel)",
   "language": "python",
   "name": "python3"
  },
  "language_info": {
   "codemirror_mode": {
    "name": "ipython",
    "version": 3
   },
   "file_extension": ".py",
   "mimetype": "text/x-python",
   "name": "python",
   "nbconvert_exporter": "python",
   "pygments_lexer": "ipython3",
   "version": "3.10.8"
  }
 },
 "nbformat": 4,
 "nbformat_minor": 5
}
