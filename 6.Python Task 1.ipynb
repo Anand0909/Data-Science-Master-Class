{
 "cells": [
  {
   "cell_type": "raw",
   "id": "98f9d439-0a7f-4868-a226-6d325b405827",
   "metadata": {},
   "source": [
    "Q1. Create a function which will take a list as an argument and return the product of all the numbers\n",
    "after creating a flat list.\n",
    "\n",
    "Use the below-given list as an argument for your function.\n",
    "list1 = [1,2,3,4, [44,55,66, True], False, (34,56,78,89,34), {1,2,3,3,2,1}, {1:34, \"key2\": [55, 67, 78, 89], 4: (45,22, 61, 34)}, [56, 'data science'], 'Machine Learning']\n",
    "\n",
    "Note: you must extract numeric keys and values of the dictionary also."
   ]
  },
  {
   "cell_type": "code",
   "execution_count": 1,
   "id": "8f18eb89-ea11-40a7-b7a9-80300ff3a9c1",
   "metadata": {},
   "outputs": [
    {
     "name": "stdout",
     "output_type": "stream",
     "text": [
      "Final list will be : [1, 2, 3, 4, 44, 55, 66, 34, 56, 78, 89, 34, 1, 2, 3, 1, 34, 55, 67, 78, 89, 4, 45, 22, 61, 34, 56]\n",
      "required result is : 4134711838987085478833841242112000\n"
     ]
    }
   ],
   "source": [
    "def extract_num(data):\n",
    "    numeric_value = []\n",
    "    for i in data:\n",
    "        if isinstance (i,(int,float)):\n",
    "            numeric_value.append(i)\n",
    "        elif isinstance (i,(list,tuple,set)):\n",
    "            numeric_value.extend(extract_num(i))\n",
    "        elif isinstance (i,dict):\n",
    "            for key,value in i.items():\n",
    "                numeric_value.extend(extract_num([key,value]))\n",
    "    return[num for num in numeric_value if not isinstance(num,bool)]\n",
    "\n",
    "def product_num(lst):\n",
    "    product = 1\n",
    "    for num in lst:\n",
    "        product*=num\n",
    "    return product\n",
    "\n",
    "data = [1, 2, 3, 4, [44, 55, 66, True], False, (34, 56, 78, 89, 34), {1, 2, 3, 3, 2, 1},{1: 34, \"key2\": [55, 67, 78, 89], 4: (45, 22, 61, 34)}, [56, 'data science'], 'Machine Learning']\n",
    "\n",
    "\n",
    "numeric_value = extract_num(data)\n",
    "final_result = product_num(numeric_value)\n",
    "\n",
    "\n",
    "print(\"Final list will be :\",numeric_value,end='\\n')\n",
    "print(\"required result is :\",final_result)\n",
    "                                 "
   ]
  },
  {
   "cell_type": "markdown",
   "id": "33bb7cc4-9216-49ec-a24c-d15ce5ee3cd4",
   "metadata": {},
   "source": [
    "Q2. Write a python program for encrypting a message sent to you by your friend. The logic of encryptionshould be such that, for a the output should be z. \n",
    "For b, the output should be y. For c, the output should be x respectively. Also, the whitespace should be replaced with a dollar sign. Keep the punctuation marks unchanged.\n",
    "\n",
    "Input Sentence: I want to become a Data Scientist.\n",
    "Encrypt the above input sentence using the program you just created.\n",
    "\n",
    "Note: Convert the given input sentence into lowercase before encrypting. The final output should be lowercase."
   ]
  },
  {
   "cell_type": "code",
   "execution_count": 1,
   "id": "f0b1edf0-9d7b-4994-8f38-43069d961df9",
   "metadata": {},
   "outputs": [
    {
     "name": "stdout",
     "output_type": "stream",
     "text": [
      "Original sentence: I want to become a Data Scientist\n",
      "Decoded sentence: i$wznt$to$yexome$z$dztz$sxientist\n"
     ]
    }
   ],
   "source": [
    "\n",
    "def decod_sentence(sen):\n",
    "    mapping = {\" \":\"$\",\"a\":\"z\",\"b\":\"y\",\"c\":\"x\"}\n",
    "    decoded_sentence = \"\".join(mapping.get(char,char) for char in sen)\n",
    "    return decoded_sentence\n",
    "    \n",
    "                                \n",
    "    \n",
    "sentence = \"I want to become a Data Scientist\"\n",
    "\n",
    "sen=sentence.lower()\n",
    "\n",
    "decoded_sentence = decod_sentence(sen)\n",
    "\n",
    "print(f\"Original sentence: {sentence}\")\n",
    "print(f\"Decoded sentence: {decoded_sentence}\")\n",
    "\n"
   ]
  },
  {
   "cell_type": "code",
   "execution_count": null,
   "id": "5702d5c9-4a48-448d-8456-99b0034b7cea",
   "metadata": {},
   "outputs": [],
   "source": []
  }
 ],
 "metadata": {
  "kernelspec": {
   "display_name": "Python 3 (ipykernel)",
   "language": "python",
   "name": "python3"
  },
  "language_info": {
   "codemirror_mode": {
    "name": "ipython",
    "version": 3
   },
   "file_extension": ".py",
   "mimetype": "text/x-python",
   "name": "python",
   "nbconvert_exporter": "python",
   "pygments_lexer": "ipython3",
   "version": "3.10.8"
  }
 },
 "nbformat": 4,
 "nbformat_minor": 5
}
