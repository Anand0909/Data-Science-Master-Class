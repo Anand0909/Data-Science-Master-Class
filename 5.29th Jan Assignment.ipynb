{
 "cells": [
  {
   "cell_type": "code",
   "execution_count": null,
   "id": "0fb33840-07dc-442f-a4d7-98c3d8e1d1ae",
   "metadata": {},
   "outputs": [],
   "source": [
    "# Solution 1: Person who developed Python programming language => Guido van Rossum"
   ]
  },
  {
   "cell_type": "code",
   "execution_count": null,
   "id": "ca2fc0ca-80ab-4459-a337-57fd6afd4156",
   "metadata": {},
   "outputs": [],
   "source": [
    "# Solution 2: Type of programming does python support : \n",
    "\n",
    "# 1.Imperative Programming\n",
    "# 2.Object-Oriented Programming (OOP)\n",
    "# 3.Functional Programming\n",
    "# 4.Procedural Programming\n",
    "# 5.Reflective Programming\n",
    "# 6.Scripting\n",
    "# 7.Dynamic Typing\n",
    "# 8.Cross-platform Development\n"
   ]
  },
  {
   "cell_type": "code",
   "execution_count": null,
   "id": "3759233a-2328-4c56-9a5e-5d735ccba59f",
   "metadata": {},
   "outputs": [],
   "source": [
    "# Solution 3: Is python case sensitive when dealing with identifier ?\n",
    "\n",
    "#  - Yes Python is case sensitive"
   ]
  },
  {
   "cell_type": "code",
   "execution_count": null,
   "id": "fba7fb47-4d93-4451-b2de-4cc1fa6ef610",
   "metadata": {},
   "outputs": [],
   "source": [
    "# Solution 4: Correct extention of Python file => .py"
   ]
  },
  {
   "cell_type": "code",
   "execution_count": null,
   "id": "b007e0bd-267a-4895-9fbc-fcf0ce532f9c",
   "metadata": {},
   "outputs": [],
   "source": [
    "# Solution 5: Is python code is interpreted or compiled ? => Python is both interpreted and compiled.\n",
    "# Python code is first compiled to bytecode, and then the bytecode is interpreted by the Python interpreter."
   ]
  },
  {
   "cell_type": "code",
   "execution_count": 3,
   "id": "0d321989-5976-4f70-885e-449ee2c8ab69",
   "metadata": {},
   "outputs": [],
   "source": [
    "# Q6. name of few blocks of code used to define in python language ?"
   ]
  },
  {
   "cell_type": "code",
   "execution_count": null,
   "id": "fecbf4d4-e156-4e07-a339-f7d92c240c39",
   "metadata": {},
   "outputs": [],
   "source": [
    "# Solution 6 : \n",
    "\n",
    "# In Python, blocks of code are defined by indentation. \n",
    "# Unlike many other programming languages that use braces {} to delimit blocks, Python uses indentation to indicate the grouping of statements. \n",
    "# Here are a few examples of code blocks in Python:\n",
    "\n",
    "# 1. Function Definition \n",
    "# 2. Conditional Statement (if, else, elif etc)\n",
    "# 3. Loops (for, while)\n",
    "# 4. class definition \n",
    "# 5. Exception Handeling (try, except, finally)"
   ]
  },
  {
   "cell_type": "code",
   "execution_count": 4,
   "id": "f21defd6-2c9a-4a7a-b541-afd03fbf7c73",
   "metadata": {},
   "outputs": [],
   "source": [
    "# Q7. state a character used to give single line comments in python"
   ]
  },
  {
   "cell_type": "code",
   "execution_count": 5,
   "id": "af47a3ee-0437-49dd-b766-87501da64a10",
   "metadata": {},
   "outputs": [
    {
     "name": "stdout",
     "output_type": "stream",
     "text": [
      "Hi everyone, hope you are doing well\n"
     ]
    }
   ],
   "source": [
    "#Solution 7 :\n",
    "    \n",
    "print(\"Hi everyone, hope you are doing well\")"
   ]
  },
  {
   "cell_type": "code",
   "execution_count": 6,
   "id": "2287cd2c-803c-4059-afb6-88b2317eee06",
   "metadata": {},
   "outputs": [
    {
     "name": "stdout",
     "output_type": "stream",
     "text": [
      "Python Version:\n",
      "3.10.8 | packaged by conda-forge | (main, Nov 22 2022, 08:26:04) [GCC 10.4.0]\n"
     ]
    }
   ],
   "source": [
    "# Solution 8 : function which can help us to know version of python on which we are currently working \n",
    "\n",
    "import sys\n",
    "\n",
    "print(\"Python Version:\")\n",
    "print(sys.version)\n"
   ]
  },
  {
   "cell_type": "code",
   "execution_count": null,
   "id": "70dcae52-2a9b-4692-b486-c971cbce16ea",
   "metadata": {},
   "outputs": [],
   "source": [
    "\n",
    "# Solution 9 : Python supports creation of annonymous function at runtime using a construct called lambda.\n"
   ]
  },
  {
   "cell_type": "code",
   "execution_count": null,
   "id": "a0ff729c-a38f-4796-9e56-ef01d83f8e20",
   "metadata": {},
   "outputs": [],
   "source": [
    "\n",
    "# Solution 10:  Pip is the package installer for Python and is widely used for downloading and installing Python packages from the Python Package Index (PyPI).\n",
    "\n",
    "# Pip stands for => \"pip installs packages\" or \"pip installs python\"\n"
   ]
  },
  {
   "cell_type": "code",
   "execution_count": null,
   "id": "8b203a8b-64b4-427d-b863-02e58493ee6b",
   "metadata": {},
   "outputs": [],
   "source": [
    "\n",
    "# Solution 11: Built in function in python =>\n",
    "\n",
    "# 1. type()\n",
    "# 2. print()\n",
    "# 3. yield()\n",
    "# 4. len()\n",
    "# 5. input()\n",
    "    \n",
    "  "
   ]
  },
  {
   "cell_type": "code",
   "execution_count": null,
   "id": "526016ee-0bdf-4ae4-a281-ca4fad589519",
   "metadata": {},
   "outputs": [],
   "source": [
    "\n",
    "# Solution 12: maximum possible length of an identifire in python => \n",
    "# PEP 8, the style guide for Python code, recommends limiting all lines to a maximum of 79 characters for code and 72 for docstrings.\n",
    "# But there is no strict limit provided by Python \n"
   ]
  },
  {
   "cell_type": "code",
   "execution_count": null,
   "id": "99b52c75-207e-459d-941f-b07922e5e2d3",
   "metadata": {},
   "outputs": [],
   "source": [
    "\n",
    "# Solutio 13: Benefits of using python =>\n",
    "\n",
    "# 1.Readability and Simplicity\n",
    "# 2.Extensive Libraries and Frameworks\n",
    "# 3.Community Support\n",
    "# 4.Cross-Platform Compatibility\n",
    "# 5.Versatility\n",
    "# 6.Productivity and Rapid Development\n",
    "# 7.Dynamically Typed and Interpreted\n",
    "# 8.Open Source and Free\n",
    "# 9.Large Standard Library\n",
    "# 10.Strong Integration Capabilities\n"
   ]
  },
  {
   "cell_type": "code",
   "execution_count": null,
   "id": "f53f67ac-a7fa-48ad-82e6-4a23a57ca1f2",
   "metadata": {},
   "outputs": [],
   "source": [
    "\n",
    "# Solution 14: Memory management in Python =>\n",
    "\n",
    "# Python interpreter manages memory automatically using reference counting and a garbage collector. \n",
    "# Reference counting keeps track of how many times an object is referenced, and when the count drops to zero, the memory is freed. \n",
    "# The garbage collector identifies and cleans up cyclic references to prevent memory leaks.\n",
    "# Python also uses memory pools, optimizations, and tools like the gc module for efficient memory management, simplifying the process for developers.\n"
   ]
  },
  {
   "cell_type": "code",
   "execution_count": null,
   "id": "c194d4d5-9eb6-4c85-ba7f-aa6f617af13b",
   "metadata": {},
   "outputs": [],
   "source": [
    "\n",
    "# Solution 15: how to install pyton on windows and set path variables =>\n",
    "\n",
    "# 1.Download Python: Visit the official Python website and download the latest version of Python for Windows.\n",
    "\n",
    "# 2.Run Installer: Open the downloaded installer and follow the installation prompts.\n",
    "\n",
    "# 3.Check \"Add Python to PATH\": In the installer, make sure to check the box that says \"Add Python to PATH\" during the installation.\n",
    "\n",
    "\n",
    "# Open System Properties:\n",
    "\n",
    "# 4.Right-click on \"This PC\" or \"Computer\" on your desktop or in File Explorer.\n",
    "#   Select \"Properties.\"\n",
    "# 5.Open Advanced System Settings:\n",
    "#   Click on \"Advanced system settings\" on the left.\n",
    "#   Click on \"Environment Variables\":\n",
    "\n",
    "# 6.In the System Properties window, click on the \"Environment Variables...\" button.\n",
    "#   Edit System Variables:\n",
    "\n",
    "# 7.Under the \"System variables\" section, find and select the \"Path\" variable.\n",
    "#   Click \"Edit...\"\n",
    "\n",
    "# 8.Add Python Path: path of python in you pc\n",
    "\n",
    "# 9.Click \"OK\" to close each window.\n"
   ]
  },
  {
   "cell_type": "code",
   "execution_count": null,
   "id": "3d284ae6-5dcc-4b00-a594-c13fa67b1a93",
   "metadata": {},
   "outputs": [],
   "source": [
    "\n",
    "# Solution 16: Yes, indentation is required in python.\n"
   ]
  },
  {
   "cell_type": "code",
   "execution_count": null,
   "id": "8fe93903-aed5-49db-84c2-f9d6f2f60b2e",
   "metadata": {},
   "outputs": [],
   "source": []
  }
 ],
 "metadata": {
  "kernelspec": {
   "display_name": "Python 3 (ipykernel)",
   "language": "python",
   "name": "python3"
  },
  "language_info": {
   "codemirror_mode": {
    "name": "ipython",
    "version": 3
   },
   "file_extension": ".py",
   "mimetype": "text/x-python",
   "name": "python",
   "nbconvert_exporter": "python",
   "pygments_lexer": "ipython3",
   "version": "3.10.8"
  }
 },
 "nbformat": 4,
 "nbformat_minor": 5
}
