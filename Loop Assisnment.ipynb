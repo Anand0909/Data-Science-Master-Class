{
 "cells": [
  {
   "cell_type": "raw",
   "id": "5eb6c239-35c5-46c7-bef8-acb23b378cb5",
   "metadata": {},
   "source": [
    "Q1. Explain with an example each when to use a for loop and a while loop."
   ]
  },
  {
   "cell_type": "code",
   "execution_count": 2,
   "id": "2b7fb0c1-eece-4662-afcd-d2136236004b",
   "metadata": {},
   "outputs": [
    {
     "name": "stdin",
     "output_type": "stream",
     "text": [
      "enter the numbers whose sum you want to calculate  10\n"
     ]
    },
    {
     "name": "stdout",
     "output_type": "stream",
     "text": [
      "55\n"
     ]
    }
   ],
   "source": [
    "# Solution 1>\n",
    "\n",
    "# for loop : Calculate sum of numbers in a given range  => For loop will be used when we want to iterate a give code for a given range\n",
    "\n",
    "n = int(input(\"enter the numbers whose sum you want to calculate \"))\n",
    "\n",
    "total = 0\n",
    "\n",
    "for i in range(0,n+1):\n",
    "    total = total+i\n",
    "    \n",
    "print(total)\n",
    "    "
   ]
  },
  {
   "cell_type": "code",
   "execution_count": 3,
   "id": "ffa195c6-e5a7-4c60-91ce-e5221729c180",
   "metadata": {},
   "outputs": [
    {
     "name": "stdin",
     "output_type": "stream",
     "text": [
      "enter the number whose table you want to calculate 5\n"
     ]
    },
    {
     "name": "stdout",
     "output_type": "stream",
     "text": [
      "5 * 1 = 5\n",
      "5 * 2 = 10\n",
      "5 * 3 = 15\n",
      "5 * 4 = 20\n",
      "5 * 5 = 25\n",
      "5 * 6 = 30\n",
      "5 * 7 = 35\n",
      "5 * 8 = 40\n",
      "5 * 9 = 45\n",
      "5 * 10 = 50\n"
     ]
    }
   ],
   "source": [
    "# while loop : Calculate table of a given number => While loop will be used untill the given condition is true \n",
    "\n",
    "n = int(input(\"enter the number whose table you want to calculate\"))\n",
    "i=1\n",
    "while i<11 :\n",
    "    print(n,\"*\",i,\"=\",n*i)\n",
    "    i = i+1\n",
    "\n",
    "    "
   ]
  },
  {
   "cell_type": "raw",
   "id": "b07ce4e1-8056-406f-915e-54a69f2f14b0",
   "metadata": {},
   "source": [
    "Q2. Write a python program to print the sum and product of the first 10 natural numbers using for\n",
    "and while loop."
   ]
  },
  {
   "cell_type": "code",
   "execution_count": 5,
   "id": "4d120373-a96d-422d-9624-da2f74c0480f",
   "metadata": {},
   "outputs": [
    {
     "name": "stdout",
     "output_type": "stream",
     "text": [
      "55\n",
      "3628800\n"
     ]
    }
   ],
   "source": [
    "#Solution 2>\n",
    "\n",
    "# sum of first 10 natural number using for loop :\n",
    "total = 0\n",
    "for i in range(11):\n",
    "    total = total+i\n",
    "print(total)\n",
    "\n",
    "# product of first 10 natural number using for loop :\n",
    "\n",
    "product = 1\n",
    "\n",
    "for i in range(1,11,1):\n",
    "    product = product*i\n",
    "print(product)\n",
    "    "
   ]
  },
  {
   "cell_type": "code",
   "execution_count": 1,
   "id": "ddfcb79e-8e02-4ccd-85ed-dc4cd4eb9dc6",
   "metadata": {},
   "outputs": [
    {
     "name": "stdout",
     "output_type": "stream",
     "text": [
      "55\n",
      "3628800\n"
     ]
    }
   ],
   "source": [
    "# sum of 10 natural numbers using while loop :\n",
    "\n",
    "total = 0\n",
    "i=0\n",
    "while i < 11:\n",
    "    total = total + i\n",
    "    i = i+1\n",
    "print(total)\n",
    "\n",
    "# product of first 10 natural numbers using while loop :\n",
    "\n",
    "product = 1\n",
    "i=1\n",
    "while i < 11:\n",
    "    product = product*i\n",
    "    i = i+1\n",
    "print(product)"
   ]
  },
  {
   "cell_type": "raw",
   "id": "902a6452-0b76-4921-aeae-f9887fbf17b3",
   "metadata": {},
   "source": [
    "Q3. Create a python program to compute the electricity bill for a household.\n",
    "\n",
    "The per-unit charges in rupees are as follows: For the first 100 units, the user will be charged Rs. 4.5 per\n",
    "unit, for the next 100 units, the user will be charged Rs. 6 per unit, and for the next 100 units, the user will\n",
    "be charged Rs. 10 per unit, After 300 units and above the user will be charged Rs. 20 per unit.\n",
    "\n",
    "You are required to take the units of electricity consumed in a month from the user as input.\n",
    "\n",
    "Your program must pass this test case: when the unit of electricity consumed by the user in a month is\n",
    "310, the total electricity bill should be 2250.\n"
   ]
  },
  {
   "cell_type": "code",
   "execution_count": 3,
   "id": "ad11b010-c37f-421e-9e0e-e43c86703490",
   "metadata": {},
   "outputs": [
    {
     "name": "stdin",
     "output_type": "stream",
     "text": [
      "Kindly mention the total unit of electricity consumed in month  310\n"
     ]
    },
    {
     "name": "stdout",
     "output_type": "stream",
     "text": [
      "Total cost of electricity consumption is 2250.0\n"
     ]
    }
   ],
   "source": [
    "#Solution 3>\n",
    "\n",
    "unit = int(input(\"Kindly mention the total unit of electricity consumed in month \")) \n",
    "\n",
    "\n",
    "if unit in range(0,101):\n",
    "    charges=unit*4.5\n",
    "elif unit in range(0,201):\n",
    "    charges=(100*4.5) + (unit-100)*6\n",
    "elif unit in range(0,301):\n",
    "    charges=(100*4.5) + (100*6) + (unit-200)*10\n",
    "else:\n",
    "    charges=(100*4.5) + (100*6) + (100*10) + (unit-300)*20\n",
    "\n",
    "print(\"Total cost of electricity consumption is\",charges)\n",
    "    \n"
   ]
  },
  {
   "cell_type": "raw",
   "id": "f3ef7d13-f645-4575-8ac1-df6f361cb69a",
   "metadata": {},
   "source": [
    "Q4. Create a list of numbers from 1 to 100. Use for loop and while loop to calculate the cube of each\n",
    "number and if the cube of that number is divisible by 4 or 5 then append that number in a list and print\n",
    "that list."
   ]
  },
  {
   "cell_type": "code",
   "execution_count": 11,
   "id": "85014f95-a537-4241-8653-2c7850c0b2a4",
   "metadata": {},
   "outputs": [
    {
     "name": "stdout",
     "output_type": "stream",
     "text": [
      "[2, 4, 5, 6, 8, 10, 12, 14, 15, 16, 18, 20, 22, 24, 25, 26, 28, 30, 32, 34, 35, 36, 38, 40, 42, 44, 45, 46, 48, 50, 52, 54, 55, 56, 58, 60, 62, 64, 65, 66, 68, 70, 72, 74, 75, 76, 78, 80, 82, 84, 85, 86, 88, 90, 92, 94, 95, 96, 98, 100]\n"
     ]
    }
   ],
   "source": [
    "#Solution 4>\n",
    "# using for loop :\n",
    "\n",
    "l1=list(range(1,101))\n",
    "l2=[]\n",
    "\n",
    "for i in l1:\n",
    "    if (i**3)%4==0 or (i**3)%5==0:\n",
    "        l2.append(i)\n",
    "print(l2)\n",
    "\n"
   ]
  },
  {
   "cell_type": "code",
   "execution_count": 15,
   "id": "f8b4c3e1-8978-4768-8b3c-d976503a542c",
   "metadata": {},
   "outputs": [
    {
     "name": "stdout",
     "output_type": "stream",
     "text": [
      "[2, 4, 5, 6, 8, 10, 12, 14, 15, 16, 18, 20, 22, 24, 25, 26, 28, 30, 32, 34, 35, 36, 38, 40, 42, 44, 45, 46, 48, 50, 52, 54, 55, 56, 58, 60, 62, 64, 65, 66, 68, 70, 72, 74, 75, 76, 78, 80, 82, 84, 85, 86, 88, 90, 92, 94, 95, 96, 98, 100]\n"
     ]
    }
   ],
   "source": [
    "#Solution 4>\n",
    "# using while loop :\n",
    "\n",
    "l1=list(range(1,101))\n",
    "l2=[]\n",
    "i=1\n",
    "while i < len(l1)+1:\n",
    "    if (i**3)%4==0 or (i**3)%5==0:\n",
    "        l2.append(i)\n",
    "    i=i+1\n",
    "print(l2)"
   ]
  },
  {
   "cell_type": "raw",
   "id": "fc517d41-0f32-40ca-8916-221715ad8cf1",
   "metadata": {},
   "source": [
    "Q5. Write a program to filter count vowels in the below-given string.\n",
    "string = \"I want to become a data scientist\""
   ]
  },
  {
   "cell_type": "code",
   "execution_count": 17,
   "id": "f8272417-799f-451a-9f11-bab8a585330f",
   "metadata": {},
   "outputs": [
    {
     "name": "stdout",
     "output_type": "stream",
     "text": [
      "Total count of vowel in given list is 11\n"
     ]
    }
   ],
   "source": [
    "#Solution 5>\n",
    "\n",
    "#vowel=[a,e,i,o,u]\n",
    "\n",
    "# in order to calculate total vowel count , i will have to make lower case of available string \n",
    "\n",
    "string =\"I want to become data scientist\"\n",
    "\n",
    "string1=string.lower()\n",
    "count = 0\n",
    "\n",
    "for i in string1:\n",
    "    if i==\"a\" or i==\"e\" or i==\"i\" or i==\"o\" or i==\"u\":\n",
    "        count+=1\n",
    "print(\"Total count of vowel in given list is\", count)\n",
    "    "
   ]
  },
  {
   "cell_type": "code",
   "execution_count": null,
   "id": "ff4e1830-4566-4ba0-8cab-53f53c792f8c",
   "metadata": {},
   "outputs": [],
   "source": []
  }
 ],
 "metadata": {
  "kernelspec": {
   "display_name": "Python 3 (ipykernel)",
   "language": "python",
   "name": "python3"
  },
  "language_info": {
   "codemirror_mode": {
    "name": "ipython",
    "version": 3
   },
   "file_extension": ".py",
   "mimetype": "text/x-python",
   "name": "python",
   "nbconvert_exporter": "python",
   "pygments_lexer": "ipython3",
   "version": "3.10.8"
  }
 },
 "nbformat": 4,
 "nbformat_minor": 5
}
