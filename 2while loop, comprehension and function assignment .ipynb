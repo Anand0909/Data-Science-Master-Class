{
 "cells": [
  {
   "cell_type": "raw",
   "id": "8730e092-3eee-4ff9-a5fa-dca6baac853e",
   "metadata": {},
   "source": [
    "Q1. Which keyword is used to create a function? Create a function to return a list of odd numbers in the\n",
    "range of 1 to 25."
   ]
  },
  {
   "cell_type": "code",
   "execution_count": 22,
   "id": "36fdefbf-8e98-4c07-80ed-8fec3313497c",
   "metadata": {},
   "outputs": [],
   "source": [
    "l1 = []\n",
    "\n",
    "def oddnumber(a,b):\n",
    "    for i in range(a,b):\n",
    "        if i%2 !=0:\n",
    "            l1.append(i)\n",
    "    return l1"
   ]
  },
  {
   "cell_type": "code",
   "execution_count": 23,
   "id": "8766edad-61dc-434b-9de7-7b1b0f777f2a",
   "metadata": {},
   "outputs": [
    {
     "data": {
      "text/plain": [
       "[1, 3, 5, 7, 9, 11, 13, 15, 17, 19, 21, 23, 25]"
      ]
     },
     "execution_count": 23,
     "metadata": {},
     "output_type": "execute_result"
    }
   ],
   "source": [
    "oddnumber(1,26)"
   ]
  },
  {
   "cell_type": "raw",
   "id": "c7a5fbf5-06fe-4cef-ad7a-b63d3e9f03a0",
   "metadata": {},
   "source": [
    "Q2. Why *args and **kwargs is used in some functions? Create a function each for *args and **kwargs\n",
    "to demonstrate their use."
   ]
  },
  {
   "cell_type": "code",
   "execution_count": 13,
   "id": "42b8da40-1969-4e38-9e40-7b65fd8fd3e9",
   "metadata": {},
   "outputs": [],
   "source": [
    "# Solution 2: *args used when we want to provide input for n numbers of arguments in a line for defined function.\n",
    "#3 and *kwargs used when we want to provide input for n numbers of arguments in form of key value pair for defined function.\n",
    "\n",
    "\n",
    "def test1(*args):\n",
    "    return args\n",
    "        \n",
    "    "
   ]
  },
  {
   "cell_type": "code",
   "execution_count": 14,
   "id": "838b1660-996e-46bc-adba-ff2f363834f6",
   "metadata": {},
   "outputs": [
    {
     "data": {
      "text/plain": [
       "('anand', 1, 'shankar', 9, 'chaubey', 9, 'bittu', 3)"
      ]
     },
     "execution_count": 14,
     "metadata": {},
     "output_type": "execute_result"
    }
   ],
   "source": [
    "test1(\"anand\",1,\"shankar\",9,\"chaubey\",9,\"bittu\",3)"
   ]
  },
  {
   "cell_type": "code",
   "execution_count": 22,
   "id": "2b14780b-b715-4169-ae7c-06ed8d7dffea",
   "metadata": {},
   "outputs": [],
   "source": [
    "def test2(**kwargs):\n",
    "    return kwargs"
   ]
  },
  {
   "cell_type": "code",
   "execution_count": 27,
   "id": "599ed5d4-9e42-40a2-9e69-ad823ae5bd7f",
   "metadata": {},
   "outputs": [
    {
     "data": {
      "text/plain": [
       "{'anand': 1, 'shankar': 9, 'chaubey': 9, 'bittu': 3}"
      ]
     },
     "execution_count": 27,
     "metadata": {},
     "output_type": "execute_result"
    }
   ],
   "source": [
    "test2(anand = 1,shankar = 9,chaubey = 9,bittu = 3)"
   ]
  },
  {
   "cell_type": "raw",
   "id": "e309b9c6-de71-4bef-a3f4-5b88750fc951",
   "metadata": {},
   "source": [
    "Q3. What is an iterator in python? Name the method used to initialise the iterator object and the method\n",
    "used for iteration. Use these methods to print the first five elements of the given list [2, 4, 6, 8, 10, 12, 14,\n",
    "16, 18, 20]."
   ]
  },
  {
   "cell_type": "code",
   "execution_count": 28,
   "id": "b3084d99-f258-4be9-9650-4def0c530951",
   "metadata": {},
   "outputs": [],
   "source": [
    "# Solution 3 : iterator is an object that allows to iterate over collection of data, such as lists,tuples,dictionaries, and sets.\n",
    "# method used to initialise the iterator object and the method used for iteration is Loop creation => for loop and while loop \n",
    "\n",
    "# for loop allows to itterate through given data set and check the given condition ater 1 cucle completion it will stop.\n",
    "# while loop will allow to itterate through given condition until the given condition is true, while loop will be used when iteration\n",
    "# needs to be continued untill the condition become false or it needs to be stopped after certain iteration\n"
   ]
  },
  {
   "cell_type": "code",
   "execution_count": 29,
   "id": "2b3a0841-72d7-4069-84ab-5f5a1784fdfa",
   "metadata": {},
   "outputs": [],
   "source": [
    "l1 = [2, 4, 6, 8, 10, 12, 14,16, 18, 20]"
   ]
  },
  {
   "cell_type": "code",
   "execution_count": 30,
   "id": "c136c6c1-fd9a-477a-9335-53836b72a468",
   "metadata": {},
   "outputs": [
    {
     "name": "stdout",
     "output_type": "stream",
     "text": [
      "2\n",
      "4\n",
      "6\n",
      "8\n",
      "10\n"
     ]
    }
   ],
   "source": [
    "# to print first 5 element from give list :\n",
    "\n",
    "for i in l1[:5]:\n",
    "    print(i)\n"
   ]
  },
  {
   "cell_type": "raw",
   "id": "bc71864b-07a0-4a25-9cca-08d7ba3a4ddc",
   "metadata": {},
   "source": [
    "Q4. What is a generator function in python? Why yield keyword is used? Give an example of a generator\n",
    "function."
   ]
  },
  {
   "cell_type": "raw",
   "id": "d6fe3c6a-e05f-4bfe-81ff-0e40bc44fcfb",
   "metadata": {},
   "source": [
    "Solution 4. \n",
    "In Python, a generator function is a function that returns an iterator that produces a sequence of values when iterated over.\n",
    "Generators are useful when we want to produce a large sequence of values, but we don't want to store all of them in memory at once.\n",
    "\n",
    "the yield statement returns a value from the genrator and suspends the execution of function untill the next value is requested."
   ]
  },
  {
   "cell_type": "code",
   "execution_count": 2,
   "id": "4fc9be5f-545b-4876-b585-aec81be47842",
   "metadata": {},
   "outputs": [],
   "source": [
    "# Ex of Generator function => \n",
    "\n",
    "def my_generator():\n",
    "    for i in range(5000):\n",
    "        yield i\n",
    "        \n",
    "gen = my_generator()"
   ]
  },
  {
   "cell_type": "code",
   "execution_count": 3,
   "id": "539bb680-3809-48f5-87b5-1508addd940e",
   "metadata": {},
   "outputs": [
    {
     "name": "stdout",
     "output_type": "stream",
     "text": [
      "0\n"
     ]
    }
   ],
   "source": [
    "print(next(gen))"
   ]
  },
  {
   "cell_type": "code",
   "execution_count": 4,
   "id": "3d441666-2f67-49a5-825a-567fe915ede6",
   "metadata": {},
   "outputs": [
    {
     "name": "stdout",
     "output_type": "stream",
     "text": [
      "1\n"
     ]
    }
   ],
   "source": [
    "print(next(gen))"
   ]
  },
  {
   "cell_type": "code",
   "execution_count": 5,
   "id": "9ebef194-3b26-4775-87e4-eb32095423af",
   "metadata": {},
   "outputs": [
    {
     "name": "stdout",
     "output_type": "stream",
     "text": [
      "2\n"
     ]
    }
   ],
   "source": [
    "print(next(gen))"
   ]
  },
  {
   "cell_type": "code",
   "execution_count": 8,
   "id": "198fa473-97ba-42e9-a138-6176466c9570",
   "metadata": {},
   "outputs": [],
   "source": [
    "# so it will genrate value once and when asked for a given range"
   ]
  },
  {
   "cell_type": "raw",
   "id": "2030e99b-5105-4473-b927-7e632439d4d4",
   "metadata": {},
   "source": [
    "Q5. Create a generator function for prime numbers less than 1000. Use the next() method to print the\n",
    "first 20 prime numbers."
   ]
  },
  {
   "cell_type": "code",
   "execution_count": 23,
   "id": "0915cefe-e3a3-4526-9275-54b59e05314f",
   "metadata": {},
   "outputs": [
    {
     "name": "stdout",
     "output_type": "stream",
     "text": [
      "2\n",
      "3\n",
      "5\n",
      "7\n",
      "11\n",
      "13\n",
      "17\n",
      "19\n",
      "23\n",
      "29\n",
      "31\n",
      "37\n",
      "41\n",
      "43\n",
      "47\n",
      "53\n",
      "59\n",
      "61\n",
      "67\n",
      "71\n"
     ]
    }
   ],
   "source": [
    "# to cjeck prime number :\n",
    "\n",
    "def is_prime(num):\n",
    "    if num < 2:\n",
    "        return False\n",
    "    for i in range(2, int(num**0.5)+1):\n",
    "        if num % i == 0:\n",
    "            return False\n",
    "    return True\n",
    "\n",
    "# prime generator :\n",
    "\n",
    "def generate_prime():\n",
    "    num = 2\n",
    "    while num < 1000:\n",
    "        if is_prime(num):\n",
    "            yield num\n",
    "        num +=1\n",
    "\n",
    "# print frst 20 prime\n",
    "prime_generator = generate_prime()\n",
    "\n",
    "for _ in range(20):\n",
    "    print(next(prime_generator))"
   ]
  },
  {
   "cell_type": "raw",
   "id": "c1accc61-c150-4eea-b1bd-bd7e7cf4b0d2",
   "metadata": {},
   "source": [
    "Q6. Write a python program to print the first 10 Fibonacci numbers using a while loop."
   ]
  },
  {
   "cell_type": "code",
   "execution_count": 47,
   "id": "b22a4289-3a6e-45f8-80bc-19b7728d7331",
   "metadata": {},
   "outputs": [
    {
     "name": "stdin",
     "output_type": "stream",
     "text": [
      "what series of fibonacci number is required ? 10\n"
     ]
    },
    {
     "name": "stdout",
     "output_type": "stream",
     "text": [
      "0\n",
      "1\n",
      "1\n",
      "2\n",
      "3\n",
      "5\n",
      "8\n",
      "13\n",
      "21\n",
      "34\n"
     ]
    }
   ],
   "source": [
    "# Solution \n",
    "\n",
    "n = int(input(\"what series of fibonacci number is required ?\" )) \n",
    "\n",
    "num1 = 0\n",
    "num2 = 1\n",
    "count = 0\n",
    "\n",
    "while count < n:\n",
    "    print(num1)\n",
    "    num3 = num1 + num2\n",
    "    num1 = num2\n",
    "    num2 = num3\n",
    "    count = count+1"
   ]
  },
  {
   "cell_type": "raw",
   "id": "8809d4b7-00fd-4d46-8deb-e51ce43f3d21",
   "metadata": {},
   "source": [
    "Q7. Write a List Comprehension to iterate through the given string: ‘pwskills’.\n",
    "Expected output: ['p', 'w', 's', 'k', 'i', 'l', 'l', 's']"
   ]
  },
  {
   "cell_type": "code",
   "execution_count": 29,
   "id": "b7c9c26c-27fc-4a6b-b810-8109a0bcd57d",
   "metadata": {},
   "outputs": [
    {
     "data": {
      "text/plain": [
       "['p', 'w', 's', 'k', 'i', 'l', 'l', 's']"
      ]
     },
     "execution_count": 29,
     "metadata": {},
     "output_type": "execute_result"
    }
   ],
   "source": [
    "# Solution :\n",
    "\n",
    "l1 = \"pwskills\"\n",
    "l2 = []\n",
    "for i in l1:\n",
    "    l2.append(i)\n",
    "l2"
   ]
  },
  {
   "cell_type": "raw",
   "id": "68a36e82-6e92-454e-9e4e-fb08e9be38a8",
   "metadata": {},
   "source": [
    "Q8. Write a python program to check whether a given number is Palindrome or not using a while loop."
   ]
  },
  {
   "cell_type": "code",
   "execution_count": 34,
   "id": "4358101c-2a97-43e8-9078-432dde9e453c",
   "metadata": {},
   "outputs": [
    {
     "name": "stdout",
     "output_type": "stream",
     "text": [
      "1331 is palindrome number.\n",
      "1341 is not palindrome number.\n"
     ]
    }
   ],
   "source": [
    "def is_palindrome(num):\n",
    "    \"convert given number into string\"\n",
    "    str_num = str(num)\n",
    "    \n",
    "    # now compare original with revers string\n",
    "    return str_num == str_num[::-1]\n",
    "\n",
    "# to check any number :\n",
    "\n",
    "# Exp - 1\n",
    "\n",
    "if is_palindrome(1331):\n",
    "    print(f\"{1331} is palindrome number.\")\n",
    "else:\n",
    "    print(f\"{1331} is not palindrome number.\")\n",
    "    \n",
    "# Exp -2     \n",
    "\n",
    "if is_palindrome(1341):\n",
    "    print(f\"{1341} is palindrome number.\")\n",
    "else:\n",
    "    print(f\"{1341} is not palindrome number.\")"
   ]
  },
  {
   "cell_type": "raw",
   "id": "196acfe7-0213-46d3-86b6-2fb762e48a76",
   "metadata": {},
   "source": [
    "Q9. Write a code to print odd numbers from 1 to 100 using list comprehension.\n",
    "Note: Use a list comprehension to create a list from 1 to 100 and use another List comprehension to filter\n",
    "out odd numbers."
   ]
  },
  {
   "cell_type": "code",
   "execution_count": 45,
   "id": "16f77be2-066b-413b-a2a2-9c306d2ddf8b",
   "metadata": {},
   "outputs": [
    {
     "name": "stdout",
     "output_type": "stream",
     "text": [
      "1 3 5 7 9 11 13 15 17 19 21 23 25 27 29 31 33 35 37 39 41 43 45 47 49 51 53 55 57 59 61 63 65 67 69 71 73 75 77 79 81 83 85 87 89 91 93 95 97 99 "
     ]
    }
   ],
   "source": [
    "l1 = []\n",
    "for i in range(1,101):\n",
    "    l1.append(i)\n",
    "\n",
    "for j in l1:\n",
    "    if j % 2 != 0 :\n",
    "        print(j, end=\" \")"
   ]
  },
  {
   "cell_type": "code",
   "execution_count": null,
   "id": "b2718500-1108-4bcc-8b9a-3c9dd1978e9c",
   "metadata": {},
   "outputs": [],
   "source": []
  }
 ],
 "metadata": {
  "kernelspec": {
   "display_name": "Python 3 (ipykernel)",
   "language": "python",
   "name": "python3"
  },
  "language_info": {
   "codemirror_mode": {
    "name": "ipython",
    "version": 3
   },
   "file_extension": ".py",
   "mimetype": "text/x-python",
   "name": "python",
   "nbconvert_exporter": "python",
   "pygments_lexer": "ipython3",
   "version": "3.10.8"
  }
 },
 "nbformat": 4,
 "nbformat_minor": 5
}
